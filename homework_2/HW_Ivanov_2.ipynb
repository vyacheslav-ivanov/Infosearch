{
 "cells": [
  {
   "cell_type": "code",
   "execution_count": 1,
   "metadata": {},
   "outputs": [],
   "source": [
    "import requests\n",
    "from bs4 import BeautifulSoup\n",
    "from IPython.display import HTML, display"
   ]
  },
  {
   "cell_type": "code",
   "execution_count": 11,
   "metadata": {},
   "outputs": [],
   "source": [
    "f = 1\n",
    "for i in range(10000, 10500):\n",
    "    \n",
    "    file = open(str(f) + '.txt', 'w', encoding='utf-8')\n",
    "    req = requests.get('https://burunen.ru/site/news?id=' + str(i))\n",
    "    soup = BeautifulSoup(req.text, 'lxml')\n",
    "    for j in soup.findAll('div', attrs={'class':'content'}):\n",
    "        if j is not None:\n",
    "        \n",
    "            #author\n",
    "            au = j.find('div', attrs={'class':'author'})\n",
    "            if au:\n",
    "                file.write('@au ' + au.text + '\\n')\n",
    "            \n",
    "            #title    \n",
    "            title = j.find('div', attrs={'class':'newstitle'})\n",
    "            ti = title.find('h3')\n",
    "            if ti:\n",
    "                file.write('@ti ' + ti.text + '\\n')\n",
    "            \n",
    "            #date \n",
    "            da = j.find('span', attrs={'class':'date'})\n",
    "            if da:\n",
    "                file.write('@da ' + da.text + '\\n')\n",
    "            \n",
    "            #topic    \n",
    "            top = j.find('p', attrs={'class':'title inline'})\n",
    "            topic = top.select('a')[2]\n",
    "            if topic:\n",
    "                file.write('@topic ' + topic.text + '\\n')\n",
    "        \n",
    "            #url\n",
    "            url = str(req.url)\n",
    "            file.write('@url ' + url + '\\n')\n",
    "        \n",
    "            #content\n",
    "            content = j.find('div', attrs = {'class':'text-content'})\n",
    "            if content:\n",
    "                file.write(content.text + '\\n')\n",
    "                \n",
    "    file.close()\n",
    "    f += 1\n",
    "            \n",
    "        \n"
   ]
  },
  {
   "cell_type": "code",
   "execution_count": null,
   "metadata": {},
   "outputs": [],
   "source": []
  }
 ],
 "metadata": {
  "kernelspec": {
   "display_name": "Python 3",
   "language": "python",
   "name": "python3"
  },
  "language_info": {
   "codemirror_mode": {
    "name": "ipython",
    "version": 3
   },
   "file_extension": ".py",
   "mimetype": "text/x-python",
   "name": "python",
   "nbconvert_exporter": "python",
   "pygments_lexer": "ipython3",
   "version": "3.4.2"
  }
 },
 "nbformat": 4,
 "nbformat_minor": 2
}
