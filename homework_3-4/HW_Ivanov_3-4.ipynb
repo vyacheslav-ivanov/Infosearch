{
 "cells": [
  {
   "cell_type": "code",
   "execution_count": 1,
   "metadata": {},
   "outputs": [],
   "source": [
    "from math import log\n",
    "import re\n",
    "import pymorphy2\n",
    "morph = pymorphy2.MorphAnalyzer()\n",
    "from flask import Flask, request, render_template\n",
    "app = Flask(__name__)\n",
    "import collections\n",
    "from collections import defaultdict, Counter"
   ]
  },
  {
   "cell_type": "code",
   "execution_count": 2,
   "metadata": {},
   "outputs": [],
   "source": [
    "def lemmatize(text): # лемматизатор, на вход принимает запрос, очищенный от стоп-слов\n",
    "    t = []\n",
    "    for i in text.split():\n",
    "        i = i.strip(',\\.\\\\/\\]\\[ *!?-_()#$%²³^&:;«»\"\\n')\n",
    "        word = morph.parse(i)[0]\n",
    "        t.append(word.normal_form)\n",
    "    return t\n",
    "        "
   ]
  },
  {
   "cell_type": "code",
   "execution_count": 3,
   "metadata": {},
   "outputs": [],
   "source": [
    "k1 = 2.0\n",
    "b = 0.75\n",
    "\n",
    "def score_BM25(n, qf, N, dl, avdl): \n",
    "    \n",
    "    \"\"\"\n",
    "    n - количество доков, содержащих слово\n",
    "    qf - частота слова\n",
    "    N - общее количество доков в коллекции\n",
    "    dl - длина дока (количество слов в доке)\n",
    "    avdl - средняя длина дока\n",
    "    \"\"\"\n",
    "\n",
    "    K = compute_K(dl, avdl)\n",
    "    IDF = log((N - n + 0.5) / (n + 0.5))\n",
    "    frac = ((k1 + 1) * qf) / (K + qf)\n",
    "    return IDF * frac\n",
    "\n",
    "def compute_K(dl, avdl):\n",
    "    return k1 * ((1-b) + b * (float(dl)/float(avdl)))"
   ]
  },
  {
   "cell_type": "code",
   "execution_count": 4,
   "metadata": {},
   "outputs": [],
   "source": [
    "def inverted_ind(doc): #создаёт инвертированный индекс, на вход принимает список с текстами\n",
    "    d = {}\n",
    "    for n in range(0, len(doc)):\n",
    "        for term in doc[n]:\n",
    "            if term not in d:\n",
    "                d[term] = [n+1]\n",
    "            else:\n",
    "                d[term].append(n+1)\n",
    "    return d\n"
   ]
  },
  {
   "cell_type": "code",
   "execution_count": 5,
   "metadata": {},
   "outputs": [],
   "source": [
    "def freq(word, ind): #вычисляет частоты\n",
    "    freq = {}\n",
    "    if word in ind:\n",
    "        for i in ind[word]:\n",
    "            #print(i)\n",
    "            if i in freq:\n",
    "                freq[i] += 1\n",
    "            else:\n",
    "                freq[i] = 1\n",
    "\n",
    "    return freq \n"
   ]
  },
  {
   "cell_type": "code",
   "execution_count": 6,
   "metadata": {},
   "outputs": [],
   "source": [
    "def search_q(query):\n",
    "    stop_words = ['большой', 'бы', 'быть', 'в', 'весь', 'вот', 'все', 'всей', 'вы', 'говорить', 'год', 'да', 'для', 'до', 'еще', 'ещё', 'же', 'знать', 'и', 'из', 'к', 'как', 'который', 'мочь', 'мы', 'на', 'наш', 'не', 'него', 'нее', 'неё', 'нет', 'них', 'но', 'о', 'один', 'она', 'они', 'оно', 'оный', 'от', 'ото', 'по', 'с', 'свой', 'себя', 'сказать', 'та', 'такой', 'только', 'тот', 'ты', 'у', 'что', 'это', 'этот', 'я']\n",
    "    query_cleaned = ' '.join([word for word in query.split() if word not in stop_words])\n",
    "    q = lemmatize(query_cleaned)\n",
    "    collection = []\n",
    "    dls = {}                        # dls - словарь {документ : длина документа (количество слов в нём)}\n",
    "    for doc in range(1, 1000):\n",
    "        file_1 = open(str(doc) + '.txt', 'r', encoding='utf-8')\n",
    "        text = file_1.read()\n",
    "        lemmas = lemmatize(text)\n",
    "        collection.append(lemmas)\n",
    "        dls[doc] = len(lemmas)\n",
    "        file_1.close()\n",
    "        \n",
    "    avdl = sum(dls)/len(dls)        # avdl - средняя длина дока\n",
    "    qf = {}\n",
    "    d = {}\n",
    "    ind = inverted_ind(collection)\n",
    "    for word in q:\n",
    "        if word in ind:\n",
    "            n = len(set(ind[word]))\n",
    "            qf = freq(word, ind)\n",
    "            for i in qf:\n",
    "                for j in dls:\n",
    "                    if i == j:\n",
    "                        d[j] = score_BM25(n, i, len(collection), j, avdl)\n",
    "    \n",
    "    sc = []\n",
    "    for i in d:\n",
    "        sc.append(d[i])\n",
    "    sc.sort(reverse=True)\n",
    "    t = sc[:10]\n",
    "    links = []\n",
    "    for i in t:\n",
    "        for j in d:\n",
    "            if i == d[j]:\n",
    "                file = open(str(j) + '.txt', 'r', encoding='utf-8')\n",
    "                txt = file.read()\n",
    "                l = re.findall('@url (https://.+)\\n', txt)\n",
    "                links.append((l[0], str(i)))\n",
    "                \n",
    "    return links"
   ]
  },
  {
   "cell_type": "code",
   "execution_count": null,
   "metadata": {},
   "outputs": [
    {
     "name": "stderr",
     "output_type": "stream",
     "text": [
      " * Running on http://127.0.0.1:5000/ (Press CTRL+C to quit)\n",
      "127.0.0.1 - - [19/Oct/2017 13:47:52] \"GET / HTTP/1.1\" 200 -\n",
      "127.0.0.1 - - [19/Oct/2017 13:47:59] \"POST / HTTP/1.1\" 200 -\n"
     ]
    }
   ],
   "source": [
    "@app.route('/', methods=['get','post'])\n",
    "def index():\n",
    "    if request.form:\n",
    "        query = request.form['query']\n",
    "        links = search_q(query)\n",
    "        return render_template('index.html',**locals())\n",
    "    return render_template('index.html')\n",
    "\n",
    "if __name__ == '__main__':\n",
    "    app.run()"
   ]
  },
  {
   "cell_type": "code",
   "execution_count": null,
   "metadata": {},
   "outputs": [],
   "source": []
  }
 ],
 "metadata": {
  "kernelspec": {
   "display_name": "Python 3",
   "language": "python",
   "name": "python3"
  },
  "language_info": {
   "codemirror_mode": {
    "name": "ipython",
    "version": 3
   },
   "file_extension": ".py",
   "mimetype": "text/x-python",
   "name": "python",
   "nbconvert_exporter": "python",
   "pygments_lexer": "ipython3",
   "version": "3.4.2"
  }
 },
 "nbformat": 4,
 "nbformat_minor": 2
}
