{
 "cells": [
  {
   "cell_type": "code",
   "execution_count": 2,
   "metadata": {},
   "outputs": [],
   "source": [
    "import requests\n",
    "from bs4 import BeautifulSoup\n",
    "from IPython.display import HTML, display"
   ]
  },
  {
   "cell_type": "code",
   "execution_count": 39,
   "metadata": {},
   "outputs": [
    {
     "data": {
      "text/html": [
       "<i>0.</i>  <a href=\"#mw-head\">навигацие</a>"
      ],
      "text/plain": [
       "<IPython.core.display.HTML object>"
      ]
     },
     "metadata": {},
     "output_type": "display_data"
    },
    {
     "data": {
      "text/html": [
       "<i>1.</i>  <a href=\"#p-search\">кэутаре</a>"
      ],
      "text/plain": [
       "<IPython.core.display.HTML object>"
      ]
     },
     "metadata": {},
     "output_type": "display_data"
    },
    {
     "data": {
      "text/html": [
       "<i>2.</i>  <a href=\"/w/index.php?title=Special:Toate_paginile&amp;from=%D0%9B%D0%B8%D0%BC%D0%B1%D1%8D+%D0%BE%D1%84%D0%B8%D1%87%D0%B8%D0%B0%D0%BB%D1%8D\" title=\"Special:Toate paginile\">Pagina următoare (Лимбэ офичиалэ)</a>"
      ],
      "text/plain": [
       "<IPython.core.display.HTML object>"
      ]
     },
     "metadata": {},
     "output_type": "display_data"
    },
    {
     "data": {
      "text/html": [
       "<i>3.</i>  <a href=\"/wiki/1917\" title=\"1917\">1917</a>"
      ],
      "text/plain": [
       "<IPython.core.display.HTML object>"
      ]
     },
     "metadata": {},
     "output_type": "display_data"
    },
    {
     "data": {
      "text/html": [
       "<i>4.</i>  <a href=\"/wiki/1918\" title=\"1918\">1918</a>"
      ],
      "text/plain": [
       "<IPython.core.display.HTML object>"
      ]
     },
     "metadata": {},
     "output_type": "display_data"
    },
    {
     "data": {
      "text/html": [
       "<i>5.</i>  <a href=\"/wiki/1919\" title=\"1919\">1919</a>"
      ],
      "text/plain": [
       "<IPython.core.display.HTML object>"
      ]
     },
     "metadata": {},
     "output_type": "display_data"
    },
    {
     "data": {
      "text/html": [
       "<i>6.</i>  <a href=\"/wiki/1940\" title=\"1940\">1940</a>"
      ],
      "text/plain": [
       "<IPython.core.display.HTML object>"
      ]
     },
     "metadata": {},
     "output_type": "display_data"
    },
    {
     "data": {
      "text/html": [
       "<i>7.</i>  <a href=\"/wiki/1941\" title=\"1941\">1941</a>"
      ],
      "text/plain": [
       "<IPython.core.display.HTML object>"
      ]
     },
     "metadata": {},
     "output_type": "display_data"
    },
    {
     "data": {
      "text/html": [
       "<i>8.</i>  <a href=\"/wiki/1942\" title=\"1942\">1942</a>"
      ],
      "text/plain": [
       "<IPython.core.display.HTML object>"
      ]
     },
     "metadata": {},
     "output_type": "display_data"
    },
    {
     "data": {
      "text/html": [
       "<i>9.</i>  <a href=\"/wiki/1989\" title=\"1989\">1989</a>"
      ],
      "text/plain": [
       "<IPython.core.display.HTML object>"
      ]
     },
     "metadata": {},
     "output_type": "display_data"
    },
    {
     "data": {
      "text/html": [
       "<i>10.</i>  <a href=\"/wiki/1990\" title=\"1990\">1990</a>"
      ],
      "text/plain": [
       "<IPython.core.display.HTML object>"
      ]
     },
     "metadata": {},
     "output_type": "display_data"
    },
    {
     "data": {
      "text/html": [
       "<i>11.</i>  <a href=\"/wiki/1991\" title=\"1991\">1991</a>"
      ],
      "text/plain": [
       "<IPython.core.display.HTML object>"
      ]
     },
     "metadata": {},
     "output_type": "display_data"
    },
    {
     "data": {
      "text/html": [
       "<i>12.</i>  <a href=\"/wiki/1997\" title=\"1997\">1997</a>"
      ],
      "text/plain": [
       "<IPython.core.display.HTML object>"
      ]
     },
     "metadata": {},
     "output_type": "display_data"
    },
    {
     "data": {
      "text/html": [
       "<i>13.</i>  <a href=\"/wiki/1998\" title=\"1998\">1998</a>"
      ],
      "text/plain": [
       "<IPython.core.display.HTML object>"
      ]
     },
     "metadata": {},
     "output_type": "display_data"
    },
    {
     "data": {
      "text/html": [
       "<i>14.</i>  <a href=\"/wiki/1999\" title=\"1999\">1999</a>"
      ],
      "text/plain": [
       "<IPython.core.display.HTML object>"
      ]
     },
     "metadata": {},
     "output_type": "display_data"
    },
    {
     "data": {
      "text/html": [
       "<i>15.</i>  <a href=\"/wiki/2000\" title=\"2000\">2000</a>"
      ],
      "text/plain": [
       "<IPython.core.display.HTML object>"
      ]
     },
     "metadata": {},
     "output_type": "display_data"
    },
    {
     "data": {
      "text/html": [
       "<i>16.</i>  <a href=\"/wiki/2001\" title=\"2001\">2001</a>"
      ],
      "text/plain": [
       "<IPython.core.display.HTML object>"
      ]
     },
     "metadata": {},
     "output_type": "display_data"
    },
    {
     "data": {
      "text/html": [
       "<i>17.</i>  <a href=\"/wiki/2002\" title=\"2002\">2002</a>"
      ],
      "text/plain": [
       "<IPython.core.display.HTML object>"
      ]
     },
     "metadata": {},
     "output_type": "display_data"
    },
    {
     "data": {
      "text/html": [
       "<i>18.</i>  <a href=\"/wiki/2003\" title=\"2003\">2003</a>"
      ],
      "text/plain": [
       "<IPython.core.display.HTML object>"
      ]
     },
     "metadata": {},
     "output_type": "display_data"
    },
    {
     "data": {
      "text/html": [
       "<i>19.</i>  <a href=\"/wiki/2004\" title=\"2004\">2004</a>"
      ],
      "text/plain": [
       "<IPython.core.display.HTML object>"
      ]
     },
     "metadata": {},
     "output_type": "display_data"
    },
    {
     "data": {
      "text/html": [
       "<i>20.</i>  <a href=\"/wiki/2005\" title=\"2005\">2005</a>"
      ],
      "text/plain": [
       "<IPython.core.display.HTML object>"
      ]
     },
     "metadata": {},
     "output_type": "display_data"
    },
    {
     "data": {
      "text/html": [
       "<i>21.</i>  <a href=\"/wiki/2006\" title=\"2006\">2006</a>"
      ],
      "text/plain": [
       "<IPython.core.display.HTML object>"
      ]
     },
     "metadata": {},
     "output_type": "display_data"
    },
    {
     "data": {
      "text/html": [
       "<i>22.</i>  <a href=\"/wiki/2007\" title=\"2007\">2007</a>"
      ],
      "text/plain": [
       "<IPython.core.display.HTML object>"
      ]
     },
     "metadata": {},
     "output_type": "display_data"
    },
    {
     "data": {
      "text/html": [
       "<i>23.</i>  <a href=\"/wiki/2008\" title=\"2008\">2008</a>"
      ],
      "text/plain": [
       "<IPython.core.display.HTML object>"
      ]
     },
     "metadata": {},
     "output_type": "display_data"
    },
    {
     "data": {
      "text/html": [
       "<i>24.</i>  <a href=\"/wiki/2009\" title=\"2009\">2009</a>"
      ],
      "text/plain": [
       "<IPython.core.display.HTML object>"
      ]
     },
     "metadata": {},
     "output_type": "display_data"
    },
    {
     "data": {
      "text/html": [
       "<i>25.</i>  <a class=\"mw-redirect\" href=\"/wiki/Anenii_Noi\" title=\"Anenii Noi\">Anenii Noi</a>"
      ],
      "text/plain": [
       "<IPython.core.display.HTML object>"
      ]
     },
     "metadata": {},
     "output_type": "display_data"
    },
    {
     "data": {
      "text/html": [
       "<i>26.</i>  <a href=\"/wiki/A%D0%94H\" title=\"AДH\">AДH</a>"
      ],
      "text/plain": [
       "<IPython.core.display.HTML object>"
      ]
     },
     "metadata": {},
     "output_type": "display_data"
    },
    {
     "data": {
      "text/html": [
       "<i>27.</i>  <a href=\"/wiki/Biserica_Adev%C4%83ratului_Isus\" title=\"Biserica Adevăratului Isus\">Biserica Adevăratului Isus</a>"
      ],
      "text/plain": [
       "<IPython.core.display.HTML object>"
      ]
     },
     "metadata": {},
     "output_type": "display_data"
    },
    {
     "data": {
      "text/html": [
       "<i>28.</i>  <a class=\"mw-redirect\" href=\"/wiki/Bugeac\" title=\"Bugeac\">Bugeac</a>"
      ],
      "text/plain": [
       "<IPython.core.display.HTML object>"
      ]
     },
     "metadata": {},
     "output_type": "display_data"
    },
    {
     "data": {
      "text/html": [
       "<i>29.</i>  <a class=\"mw-redirect\" href=\"/wiki/Buran_(viscol)\" title=\"Buran (viscol)\">Buran (viscol)</a>"
      ],
      "text/plain": [
       "<IPython.core.display.HTML object>"
      ]
     },
     "metadata": {},
     "output_type": "display_data"
    },
    {
     "data": {
      "text/html": [
       "<i>30.</i>  <a class=\"mw-redirect\" href=\"/wiki/Chi%C5%9Fin%C4%83u\" title=\"Chişinău\">Chişinău</a>"
      ],
      "text/plain": [
       "<IPython.core.display.HTML object>"
      ]
     },
     "metadata": {},
     "output_type": "display_data"
    },
    {
     "data": {
      "text/html": [
       "<i>31.</i>  <a href=\"/wiki/Ciocan\" title=\"Ciocan\">Ciocan</a>"
      ],
      "text/plain": [
       "<IPython.core.display.HTML object>"
      ]
     },
     "metadata": {},
     "output_type": "display_data"
    },
    {
     "data": {
      "text/html": [
       "<i>32.</i>  <a class=\"mw-redirect\" href=\"/wiki/Continent\" title=\"Continent\">Continent</a>"
      ],
      "text/plain": [
       "<IPython.core.display.HTML object>"
      ]
     },
     "metadata": {},
     "output_type": "display_data"
    },
    {
     "data": {
      "text/html": [
       "<i>33.</i>  <a class=\"mw-redirect\" href=\"/wiki/Cultur%C4%83\" title=\"Cultură\">Cultură</a>"
      ],
      "text/plain": [
       "<IPython.core.display.HTML object>"
      ]
     },
     "metadata": {},
     "output_type": "display_data"
    },
    {
     "data": {
      "text/html": [
       "<i>34.</i>  <a href=\"/wiki/Dans\" title=\"Dans\">Dans</a>"
      ],
      "text/plain": [
       "<IPython.core.display.HTML object>"
      ]
     },
     "metadata": {},
     "output_type": "display_data"
    },
    {
     "data": {
      "text/html": [
       "<i>35.</i>  <a class=\"mw-redirect\" href=\"/wiki/Dansuri\" title=\"Dansuri\">Dansuri</a>"
      ],
      "text/plain": [
       "<IPython.core.display.HTML object>"
      ]
     },
     "metadata": {},
     "output_type": "display_data"
    },
    {
     "data": {
      "text/html": [
       "<i>36.</i>  <a class=\"mw-redirect\" href=\"/wiki/Densitatea_popula%C5%A3iei\" title=\"Densitatea populaţiei\">Densitatea populaţiei</a>"
      ],
      "text/plain": [
       "<IPython.core.display.HTML object>"
      ]
     },
     "metadata": {},
     "output_type": "display_data"
    },
    {
     "data": {
      "text/html": [
       "<i>37.</i>  <a href=\"/wiki/Discuter:Resim:Archdukecharles1.jpg\" title=\"Discuter:Resim:Archdukecharles1.jpg\">Discuter:Resim:Archdukecharles1.jpg</a>"
      ],
      "text/plain": [
       "<IPython.core.display.HTML object>"
      ]
     },
     "metadata": {},
     "output_type": "display_data"
    },
    {
     "data": {
      "text/html": [
       "<i>38.</i>  <a class=\"mw-redirect\" href=\"/wiki/Dupe\" title=\"Dupe\">Dupe</a>"
      ],
      "text/plain": [
       "<IPython.core.display.HTML object>"
      ]
     },
     "metadata": {},
     "output_type": "display_data"
    },
    {
     "data": {
      "text/html": [
       "<i>39.</i>  <a class=\"mw-redirect\" href=\"/wiki/Europa\" title=\"Europa\">Europa</a>"
      ],
      "text/plain": [
       "<IPython.core.display.HTML object>"
      ]
     },
     "metadata": {},
     "output_type": "display_data"
    },
    {
     "data": {
      "text/html": [
       "<i>40.</i>  <a class=\"mw-redirect\" href=\"/wiki/Film\" title=\"Film\">Film</a>"
      ],
      "text/plain": [
       "<IPython.core.display.HTML object>"
      ]
     },
     "metadata": {},
     "output_type": "display_data"
    },
    {
     "data": {
      "text/html": [
       "<i>41.</i>  <a class=\"mw-redirect\" href=\"/wiki/G%C4%83g%C4%83uzi\" title=\"Găgăuzi\">Găgăuzi</a>"
      ],
      "text/plain": [
       "<IPython.core.display.HTML object>"
      ]
     },
     "metadata": {},
     "output_type": "display_data"
    },
    {
     "data": {
      "text/html": [
       "<i>42.</i>  <a href=\"/wiki/G%C4%83g%C4%83uzia\" title=\"Găgăuzia\">Găgăuzia</a>"
      ],
      "text/plain": [
       "<IPython.core.display.HTML object>"
      ]
     },
     "metadata": {},
     "output_type": "display_data"
    },
    {
     "data": {
      "text/html": [
       "<i>43.</i>  <a class=\"mw-redirect\" href=\"/wiki/HomePage\" title=\"HomePage\">HomePage</a>"
      ],
      "text/plain": [
       "<IPython.core.display.HTML object>"
      ]
     },
     "metadata": {},
     "output_type": "display_data"
    },
    {
     "data": {
      "text/html": [
       "<i>44.</i>  <a href=\"/wiki/Ia%C5%9Fi\" title=\"Iaşi\">Iaşi</a>"
      ],
      "text/plain": [
       "<IPython.core.display.HTML object>"
      ]
     },
     "metadata": {},
     "output_type": "display_data"
    },
    {
     "data": {
      "text/html": [
       "<i>45.</i>  <a href=\"/wiki/InuYasha\" title=\"InuYasha\">InuYasha</a>"
      ],
      "text/plain": [
       "<IPython.core.display.HTML object>"
      ]
     },
     "metadata": {},
     "output_type": "display_data"
    },
    {
     "data": {
      "text/html": [
       "<i>46.</i>  <a class=\"mw-redirect\" href=\"/wiki/Istoria_Moldovei\" title=\"Istoria Moldovei\">Istoria Moldovei</a>"
      ],
      "text/plain": [
       "<IPython.core.display.HTML object>"
      ]
     },
     "metadata": {},
     "output_type": "display_data"
    },
    {
     "data": {
      "text/html": [
       "<i>47.</i>  <a class=\"mw-redirect\" href=\"/wiki/I%D0%BC%D0%BFep%D0%B8%D1%83%D0%BB_Po%D0%BCa%D0%BD\" title=\"Iмпepиул Poмaн\">Iмпepиул Poмaн</a>"
      ],
      "text/plain": [
       "<IPython.core.display.HTML object>"
      ]
     },
     "metadata": {},
     "output_type": "display_data"
    },
    {
     "data": {
      "text/html": [
       "<i>48.</i>  <a class=\"mw-redirect\" href=\"/wiki/I%D0%BD%D1%82ep%D0%BDe%D1%82\" title=\"Iнтepнeт\">Iнтepнeт</a>"
      ],
      "text/plain": [
       "<IPython.core.display.HTML object>"
      ]
     },
     "metadata": {},
     "output_type": "display_data"
    },
    {
     "data": {
      "text/html": [
       "<i>49.</i>  <a class=\"mw-redirect\" href=\"/wiki/Judetul_Edinet\" title=\"Judetul Edinet\">Judetul Edinet</a>"
      ],
      "text/plain": [
       "<IPython.core.display.HTML object>"
      ]
     },
     "metadata": {},
     "output_type": "display_data"
    },
    {
     "data": {
      "text/html": [
       "<i>50.</i>  <a class=\"mw-redirect\" href=\"/wiki/Jude%C5%A3ul_Chi%C5%9Fin%C4%83u\" title=\"Judeţul Chişinău\">Judeţul Chişinău</a>"
      ],
      "text/plain": [
       "<IPython.core.display.HTML object>"
      ]
     },
     "metadata": {},
     "output_type": "display_data"
    },
    {
     "data": {
      "text/html": [
       "<i>51.</i>  <a class=\"mw-redirect\" href=\"/wiki/Limba_Moldoveasc%C4%83\" title=\"Limba Moldovească\">Limba Moldovească</a>"
      ],
      "text/plain": [
       "<IPython.core.display.HTML object>"
      ]
     },
     "metadata": {},
     "output_type": "display_data"
    },
    {
     "data": {
      "text/html": [
       "<i>52.</i>  <a class=\"mw-redirect\" href=\"/wiki/Limba_Moldoveneasc%C4%83\" title=\"Limba Moldovenească\">Limba Moldovenească</a>"
      ],
      "text/plain": [
       "<IPython.core.display.HTML object>"
      ]
     },
     "metadata": {},
     "output_type": "display_data"
    },
    {
     "data": {
      "text/html": [
       "<i>53.</i>  <a class=\"mw-redirect\" href=\"/wiki/Limba_Noastr%C4%83\" title=\"Limba Noastră\">Limba Noastră</a>"
      ],
      "text/plain": [
       "<IPython.core.display.HTML object>"
      ]
     },
     "metadata": {},
     "output_type": "display_data"
    },
    {
     "data": {
      "text/html": [
       "<i>54.</i>  <a href=\"/wiki/Limba_german%C4%83\" title=\"Limba germană\">Limba germană</a>"
      ],
      "text/plain": [
       "<IPython.core.display.HTML object>"
      ]
     },
     "metadata": {},
     "output_type": "display_data"
    },
    {
     "data": {
      "text/html": [
       "<i>55.</i>  <a class=\"mw-redirect\" href=\"/wiki/Limba_moldoveneasc%C4%83\" title=\"Limba moldovenească\">Limba moldovenească</a>"
      ],
      "text/plain": [
       "<IPython.core.display.HTML object>"
      ]
     },
     "metadata": {},
     "output_type": "display_data"
    },
    {
     "data": {
      "text/html": [
       "<i>56.</i>  <a href=\"/wiki/Limba_olandez%C4%83\" title=\"Limba olandeză\">Limba olandeză</a>"
      ],
      "text/plain": [
       "<IPython.core.display.HTML object>"
      ]
     },
     "metadata": {},
     "output_type": "display_data"
    },
    {
     "data": {
      "text/html": [
       "<i>57.</i>  <a class=\"mw-redirect\" href=\"/wiki/Lista_de_orase_din_Argentina\" title=\"Lista de orase din Argentina\">Lista de orase din Argentina</a>"
      ],
      "text/plain": [
       "<IPython.core.display.HTML object>"
      ]
     },
     "metadata": {},
     "output_type": "display_data"
    },
    {
     "data": {
      "text/html": [
       "<i>58.</i>  <a class=\"mw-redirect\" href=\"/wiki/List%C4%83_de_ora%C5%9Fe_din_Argentina\" title=\"Listă de oraşe din Argentina\">Listă de oraşe din Argentina</a>"
      ],
      "text/plain": [
       "<IPython.core.display.HTML object>"
      ]
     },
     "metadata": {},
     "output_type": "display_data"
    },
    {
     "data": {
      "text/html": [
       "<i>59.</i>  <a href=\"/wiki/List%C4%83_de_ora%C5%9Fe_din_Republica_Moldova\" title=\"Listă de oraşe din Republica Moldova\">Listă de oraşe din Republica Moldova</a>"
      ],
      "text/plain": [
       "<IPython.core.display.HTML object>"
      ]
     },
     "metadata": {},
     "output_type": "display_data"
    },
    {
     "data": {
      "text/html": [
       "<i>60.</i>  <a class=\"mw-redirect\" href=\"/wiki/Main_Page\" title=\"Main Page\">Main Page</a>"
      ],
      "text/plain": [
       "<IPython.core.display.HTML object>"
      ]
     },
     "metadata": {},
     "output_type": "display_data"
    },
    {
     "data": {
      "text/html": [
       "<i>61.</i>  <a class=\"mw-redirect\" href=\"/wiki/Marea_Neagr%C4%83\" title=\"Marea Neagră\">Marea Neagră</a>"
      ],
      "text/plain": [
       "<IPython.core.display.HTML object>"
      ]
     },
     "metadata": {},
     "output_type": "display_data"
    },
    {
     "data": {
      "text/html": [
       "<i>62.</i>  <a class=\"mw-redirect\" href=\"/wiki/Mo.%D0%B2%D0%B8%D0%BA%D0%B8\" title=\"Mo.вики\">Mo.вики</a>"
      ],
      "text/plain": [
       "<IPython.core.display.HTML object>"
      ]
     },
     "metadata": {},
     "output_type": "display_data"
    },
    {
     "data": {
      "text/html": [
       "<i>63.</i>  <a class=\"mw-redirect\" href=\"/wiki/Mod%C3%A8le:Encyclop%C3%A9die\" title=\"Modèle:Encyclopédie\">Modèle:Encyclopédie</a>"
      ],
      "text/plain": [
       "<IPython.core.display.HTML object>"
      ]
     },
     "metadata": {},
     "output_type": "display_data"
    },
    {
     "data": {
      "text/html": [
       "<i>64.</i>  <a class=\"mw-redirect\" href=\"/wiki/Mosovce\" title=\"Mosovce\">Mosovce</a>"
      ],
      "text/plain": [
       "<IPython.core.display.HTML object>"
      ]
     },
     "metadata": {},
     "output_type": "display_data"
    },
    {
     "data": {
      "text/html": [
       "<i>65.</i>  <a class=\"mw-redirect\" href=\"/wiki/Mo%C5%A1ovce\" title=\"Mošovce\">Mošovce</a>"
      ],
      "text/plain": [
       "<IPython.core.display.HTML object>"
      ]
     },
     "metadata": {},
     "output_type": "display_data"
    },
    {
     "data": {
      "text/html": [
       "<i>66.</i>  <a class=\"mw-redirect\" href=\"/wiki/Nistru\" title=\"Nistru\">Nistru</a>"
      ],
      "text/plain": [
       "<IPython.core.display.HTML object>"
      ]
     },
     "metadata": {},
     "output_type": "display_data"
    },
    {
     "data": {
      "text/html": [
       "<i>67.</i>  <a href=\"/wiki/O-Zone\" title=\"O-Zone\">O-Zone</a>"
      ],
      "text/plain": [
       "<IPython.core.display.HTML object>"
      ]
     },
     "metadata": {},
     "output_type": "display_data"
    },
    {
     "data": {
      "text/html": [
       "<i>68.</i>  <a class=\"mw-redirect\" href=\"/wiki/Pagina_Principala\" title=\"Pagina Principala\">Pagina Principala</a>"
      ],
      "text/plain": [
       "<IPython.core.display.HTML object>"
      ]
     },
     "metadata": {},
     "output_type": "display_data"
    },
    {
     "data": {
      "text/html": [
       "<i>69.</i>  <a class=\"mw-redirect\" href=\"/wiki/Pagina_Principal%C3%A3\" title=\"Pagina Principalã\">Pagina Principalã</a>"
      ],
      "text/plain": [
       "<IPython.core.display.HTML object>"
      ]
     },
     "metadata": {},
     "output_type": "display_data"
    },
    {
     "data": {
      "text/html": [
       "<i>70.</i>  <a class=\"mw-redirect\" href=\"/wiki/Pagina_principal%C4%83\" title=\"Pagina principală\">Pagina principală</a>"
      ],
      "text/plain": [
       "<IPython.core.display.HTML object>"
      ]
     },
     "metadata": {},
     "output_type": "display_data"
    },
    {
     "data": {
      "text/html": [
       "<i>71.</i>  <a href=\"/wiki/Pagina_principal%C4%83_-_latin\" title=\"Pagina principală - latin\">Pagina principală - latin</a>"
      ],
      "text/plain": [
       "<IPython.core.display.HTML object>"
      ]
     },
     "metadata": {},
     "output_type": "display_data"
    },
    {
     "data": {
      "text/html": [
       "<i>72.</i>  <a class=\"mw-redirect\" href=\"/wiki/Planeta_Moldova\" title=\"Planeta Moldova\">Planeta Moldova</a>"
      ],
      "text/plain": [
       "<IPython.core.display.HTML object>"
      ]
     },
     "metadata": {},
     "output_type": "display_data"
    },
    {
     "data": {
      "text/html": [
       "<i>73.</i>  <a class=\"mw-redirect\" href=\"/wiki/P%D1%8D%D1%86%D1%83%D1%88%D0%BAa_%D1%87%D1%8F_%D1%83p%D1%8B%D1%82%D1%8D\" title=\"Pэцушкa чя уpытэ\">Pэцушкa чя уpытэ</a>"
      ],
      "text/plain": [
       "<IPython.core.display.HTML object>"
      ]
     },
     "metadata": {},
     "output_type": "display_data"
    },
    {
     "data": {
      "text/html": [
       "<i>74.</i>  <a href=\"/wiki/Raion\" title=\"Raion\">Raion</a>"
      ],
      "text/plain": [
       "<IPython.core.display.HTML object>"
      ]
     },
     "metadata": {},
     "output_type": "display_data"
    },
    {
     "data": {
      "text/html": [
       "<i>75.</i>  <a class=\"mw-redirect\" href=\"/wiki/Raionul_Anenii_Noi\" title=\"Raionul Anenii Noi\">Raionul Anenii Noi</a>"
      ],
      "text/plain": [
       "<IPython.core.display.HTML object>"
      ]
     },
     "metadata": {},
     "output_type": "display_data"
    },
    {
     "data": {
      "text/html": [
       "<i>76.</i>  <a class=\"mw-redirect\" href=\"/wiki/Raionul_Edinet\" title=\"Raionul Edinet\">Raionul Edinet</a>"
      ],
      "text/plain": [
       "<IPython.core.display.HTML object>"
      ]
     },
     "metadata": {},
     "output_type": "display_data"
    },
    {
     "data": {
      "text/html": [
       "<i>77.</i>  <a class=\"mw-redirect\" href=\"/wiki/Reni\" title=\"Reni\">Reni</a>"
      ],
      "text/plain": [
       "<IPython.core.display.HTML object>"
      ]
     },
     "metadata": {},
     "output_type": "display_data"
    },
    {
     "data": {
      "text/html": [
       "<i>78.</i>  <a class=\"mw-redirect\" href=\"/wiki/Republica_Moldova\" title=\"Republica Moldova\">Republica Moldova</a>"
      ],
      "text/plain": [
       "<IPython.core.display.HTML object>"
      ]
     },
     "metadata": {},
     "output_type": "display_data"
    },
    {
     "data": {
      "text/html": [
       "<i>79.</i>  <a class=\"mw-redirect\" href=\"/wiki/Riga\" title=\"Riga\">Riga</a>"
      ],
      "text/plain": [
       "<IPython.core.display.HTML object>"
      ]
     },
     "metadata": {},
     "output_type": "display_data"
    },
    {
     "data": {
      "text/html": [
       "<i>80.</i>  <a class=\"mw-redirect\" href=\"/wiki/Rom%C3%A2nia\" title=\"România\">România</a>"
      ],
      "text/plain": [
       "<IPython.core.display.HTML object>"
      ]
     },
     "metadata": {},
     "output_type": "display_data"
    },
    {
     "data": {
      "text/html": [
       "<i>81.</i>  <a class=\"mw-redirect\" href=\"/wiki/Rom%C3%A2nia_Mare\" title=\"România Mare\">România Mare</a>"
      ],
      "text/plain": [
       "<IPython.core.display.HTML object>"
      ]
     },
     "metadata": {},
     "output_type": "display_data"
    },
    {
     "data": {
      "text/html": [
       "<i>82.</i>  <a class=\"mw-redirect\" href=\"/wiki/Russia\" title=\"Russia\">Russia</a>"
      ],
      "text/plain": [
       "<IPython.core.display.HTML object>"
      ]
     },
     "metadata": {},
     "output_type": "display_data"
    },
    {
     "data": {
      "text/html": [
       "<i>83.</i>  <a class=\"mw-redirect\" href=\"/wiki/San_Francisco\" title=\"San Francisco\">San Francisco</a>"
      ],
      "text/plain": [
       "<IPython.core.display.HTML object>"
      ]
     },
     "metadata": {},
     "output_type": "display_data"
    },
    {
     "data": {
      "text/html": [
       "<i>84.</i>  <a href=\"/wiki/Sandbox\" title=\"Sandbox\">Sandbox</a>"
      ],
      "text/plain": [
       "<IPython.core.display.HTML object>"
      ]
     },
     "metadata": {},
     "output_type": "display_data"
    },
    {
     "data": {
      "text/html": [
       "<i>85.</i>  <a class=\"mw-redirect\" href=\"/wiki/Se\" title=\"Se\">Se</a>"
      ],
      "text/plain": [
       "<IPython.core.display.HTML object>"
      ]
     },
     "metadata": {},
     "output_type": "display_data"
    },
    {
     "data": {
      "text/html": [
       "<i>86.</i>  <a class=\"mw-redirect\" href=\"/wiki/Seul\" title=\"Seul\">Seul</a>"
      ],
      "text/plain": [
       "<IPython.core.display.HTML object>"
      ]
     },
     "metadata": {},
     "output_type": "display_data"
    },
    {
     "data": {
      "text/html": [
       "<i>87.</i>  <a class=\"mw-redirect\" href=\"/wiki/Step%C4%83\" title=\"Stepă\">Stepă</a>"
      ],
      "text/plain": [
       "<IPython.core.display.HTML object>"
      ]
     },
     "metadata": {},
     "output_type": "display_data"
    },
    {
     "data": {
      "text/html": [
       "<i>88.</i>  <a class=\"mw-redirect\" href=\"/wiki/Ucraina\" title=\"Ucraina\">Ucraina</a>"
      ],
      "text/plain": [
       "<IPython.core.display.HTML object>"
      ]
     },
     "metadata": {},
     "output_type": "display_data"
    },
    {
     "data": {
      "text/html": [
       "<i>89.</i>  <a href=\"/wiki/Ungaria\" title=\"Ungaria\">Ungaria</a>"
      ],
      "text/plain": [
       "<IPython.core.display.HTML object>"
      ]
     },
     "metadata": {},
     "output_type": "display_data"
    },
    {
     "data": {
      "text/html": [
       "<i>90.</i>  <a class=\"mw-redirect\" href=\"/wiki/Ungheni\" title=\"Ungheni\">Ungheni</a>"
      ],
      "text/plain": [
       "<IPython.core.display.HTML object>"
      ]
     },
     "metadata": {},
     "output_type": "display_data"
    },
    {
     "data": {
      "text/html": [
       "<i>91.</i>  <a class=\"mw-redirect\" href=\"/wiki/Uniunea_Europeana\" title=\"Uniunea Europeana\">Uniunea Europeana</a>"
      ],
      "text/plain": [
       "<IPython.core.display.HTML object>"
      ]
     },
     "metadata": {},
     "output_type": "display_data"
    },
    {
     "data": {
      "text/html": [
       "<i>92.</i>  <a class=\"mw-redirect\" href=\"/wiki/Uniunea_Europeanaa\" title=\"Uniunea Europeanaa\">Uniunea Europeanaa</a>"
      ],
      "text/plain": [
       "<IPython.core.display.HTML object>"
      ]
     },
     "metadata": {},
     "output_type": "display_data"
    },
    {
     "data": {
      "text/html": [
       "<i>93.</i>  <a class=\"mw-redirect\" href=\"/wiki/Uniunea_European%C4%83\" title=\"Uniunea Europeană\">Uniunea Europeană</a>"
      ],
      "text/plain": [
       "<IPython.core.display.HTML object>"
      ]
     },
     "metadata": {},
     "output_type": "display_data"
    },
    {
     "data": {
      "text/html": [
       "<i>94.</i>  <a class=\"mw-redirect\" href=\"/wiki/Var%C5%9Fovia\" title=\"Varşovia\">Varşovia</a>"
      ],
      "text/plain": [
       "<IPython.core.display.HTML object>"
      ]
     },
     "metadata": {},
     "output_type": "display_data"
    },
    {
     "data": {
      "text/html": [
       "<i>95.</i>  <a href=\"/wiki/Wiki\" title=\"Wiki\">Wiki</a>"
      ],
      "text/plain": [
       "<IPython.core.display.HTML object>"
      ]
     },
     "metadata": {},
     "output_type": "display_data"
    },
    {
     "data": {
      "text/html": [
       "<i>96.</i>  <a class=\"mw-redirect\" href=\"/wiki/X\" title=\"X\">X</a>"
      ],
      "text/plain": [
       "<IPython.core.display.HTML object>"
      ]
     },
     "metadata": {},
     "output_type": "display_data"
    },
    {
     "data": {
      "text/html": [
       "<i>97.</i>  <a class=\"mw-redirect\" href=\"/wiki/%D0%90%D0%A8%D0%9C\" title=\"АШМ\">АШМ</a>"
      ],
      "text/plain": [
       "<IPython.core.display.HTML object>"
      ]
     },
     "metadata": {},
     "output_type": "display_data"
    },
    {
     "data": {
      "text/html": [
       "<i>98.</i>  <a href=\"/wiki/%D0%90%D0%B1%D1%80%D1%83%D0%B4_(%D0%90%D0%BB%D0%B1%D0%B0)\" title=\"Абруд (Алба)\">Абруд (Алба)</a>"
      ],
      "text/plain": [
       "<IPython.core.display.HTML object>"
      ]
     },
     "metadata": {},
     "output_type": "display_data"
    },
    {
     "data": {
      "text/html": [
       "<i>99.</i>  <a class=\"mw-redirect\" href=\"/wiki/%D0%90%D0%B1%D1%80%D1%83%D0%B4_(%D0%B4%D0%B5%D0%B7%D0%B0%D0%BC%D0%B1%D0%B8%D0%B3%D1%83%D0%B9%D0%B0%D1%80%D0%B5)\" title=\"Абруд (дезамбигуйаре)\">Абруд (дезамбигуйаре)</a>"
      ],
      "text/plain": [
       "<IPython.core.display.HTML object>"
      ]
     },
     "metadata": {},
     "output_type": "display_data"
    },
    {
     "data": {
      "text/html": [
       "<i>100.</i>  <a href=\"/wiki/%D0%90%D0%B1%D1%80%D1%83%D0%B4_(%D0%B4%D0%B5%D0%B7%D0%B0%D0%BC%D0%B1%D0%B8%D0%B3%D1%83%D0%B9%D0%B7%D0%B0%D1%80%D0%B5)\" title=\"Абруд (дезамбигуйзаре)\">Абруд (дезамбигуйзаре)</a>"
      ],
      "text/plain": [
       "<IPython.core.display.HTML object>"
      ]
     },
     "metadata": {},
     "output_type": "display_data"
    },
    {
     "data": {
      "text/html": [
       "<i>101.</i>  <a class=\"mw-redirect\" href=\"/wiki/%D0%90%D0%B1%D1%80%D1%83%D0%B4_(%D0%B4%D0%B5%D0%B7%D0%B0%D0%BC%D0%B1%D0%B8%D0%B3%D1%83%D0%B9%D0%B7%D0%B0%D1%80%D0%B5)_on_wheels\" title=\"Абруд (дезамбигуйзаре) on wheels\">Абруд (дезамбигуйзаре) on wheels</a>"
      ],
      "text/plain": [
       "<IPython.core.display.HTML object>"
      ]
     },
     "metadata": {},
     "output_type": "display_data"
    },
    {
     "data": {
      "text/html": [
       "<i>102.</i>  <a href=\"/wiki/%D0%90%D0%B4%D1%8B%D0%B3%D0%B5%D1%8F\" title=\"Адыгея\">Адыгея</a>"
      ],
      "text/plain": [
       "<IPython.core.display.HTML object>"
      ]
     },
     "metadata": {},
     "output_type": "display_data"
    },
    {
     "data": {
      "text/html": [
       "<i>103.</i>  <a href=\"/wiki/%D0%90%D0%B5%D1%80%D0%BE%D0%BF%D0%BE%D1%80%D1%82%D1%83%D0%BB_%D0%A4%D1%80%D0%B0%D0%BD%D0%BA%D1%84%D1%83%D1%80%D1%82\" title=\"Аеропортул Франкфурт\">Аеропортул Франкфурт</a>"
      ],
      "text/plain": [
       "<IPython.core.display.HTML object>"
      ]
     },
     "metadata": {},
     "output_type": "display_data"
    },
    {
     "data": {
      "text/html": [
       "<i>104.</i>  <a href=\"/wiki/%D0%90%D0%B7%D0%B5%D1%80%D0%B1%D0%B0%D0%B8%D3%82%D0%B0%D0%BD\" title=\"Азербаиӂан\">Азербаиӂан</a>"
      ],
      "text/plain": [
       "<IPython.core.display.HTML object>"
      ]
     },
     "metadata": {},
     "output_type": "display_data"
    },
    {
     "data": {
      "text/html": [
       "<i>105.</i>  <a href=\"/wiki/%D0%90%D0%B9%D0%BE%D0%B2%D0%B0\" title=\"Айова\">Айова</a>"
      ],
      "text/plain": [
       "<IPython.core.display.HTML object>"
      ]
     },
     "metadata": {},
     "output_type": "display_data"
    },
    {
     "data": {
      "text/html": [
       "<i>106.</i>  <a href=\"/wiki/%D0%90%D0%B9%D1%81%D0%B1%D0%B5%D1%80%D0%B3\" title=\"Айсберг\">Айсберг</a>"
      ],
      "text/plain": [
       "<IPython.core.display.HTML object>"
      ]
     },
     "metadata": {},
     "output_type": "display_data"
    },
    {
     "data": {
      "text/html": [
       "<i>107.</i>  <a class=\"mw-redirect\" href=\"/wiki/%D0%90%D0%B9%D1%83%D0%B4\" title=\"Айуд\">Айуд</a>"
      ],
      "text/plain": [
       "<IPython.core.display.HTML object>"
      ]
     },
     "metadata": {},
     "output_type": "display_data"
    },
    {
     "data": {
      "text/html": [
       "<i>108.</i>  <a href=\"/wiki/%D0%90%D0%BA%D0%B0%D0%B4%D0%B5%D0%BC%D0%B8%D1%8F_%D0%B4%D0%B5_%D0%A8%D1%82%D0%B8%D0%B8%D0%BD%D1%86%D0%B5_%D0%B0_%D0%9C%D0%BE%D0%BB%D0%B4%D0%BE%D0%B2%D0%B5%D0%B9\" title=\"Академия де Штиинце а Молдовей\">Академия де Штиинце а Молдовей</a>"
      ],
      "text/plain": [
       "<IPython.core.display.HTML object>"
      ]
     },
     "metadata": {},
     "output_type": "display_data"
    },
    {
     "data": {
      "text/html": [
       "<i>109.</i>  <a href=\"/wiki/%D0%90%D0%BB%D0%B0%D0%B1%D0%B0%D0%BC%D0%B0\" title=\"Алабама\">Алабама</a>"
      ],
      "text/plain": [
       "<IPython.core.display.HTML object>"
      ]
     },
     "metadata": {},
     "output_type": "display_data"
    },
    {
     "data": {
      "text/html": [
       "<i>110.</i>  <a href=\"/wiki/%D0%90%D0%BB%D0%B2%D0%B5%D1%80%D0%BD%D1%8F\" title=\"Алверня\">Алверня</a>"
      ],
      "text/plain": [
       "<IPython.core.display.HTML object>"
      ]
     },
     "metadata": {},
     "output_type": "display_data"
    },
    {
     "data": {
      "text/html": [
       "<i>111.</i>  <a href=\"/wiki/%D0%90%D0%BB%D0%B5%D0%BA%D1%81%D0%B0%D0%BD%D0%B4%D1%80_%D0%9A%D0%B2%D0%B0%D1%81%D1%8C%D0%BD%D0%B5%D0%B2%D1%81%D0%BA%D0%B8%D0%B9\" title=\"Александр Квасьневский\">Александр Квасьневский</a>"
      ],
      "text/plain": [
       "<IPython.core.display.HTML object>"
      ]
     },
     "metadata": {},
     "output_type": "display_data"
    },
    {
     "data": {
      "text/html": [
       "<i>112.</i>  <a href=\"/wiki/%D0%90%D0%BB%D0%B5%D0%BA%D1%81%D0%B0%D0%BD%D0%B4%D1%80%D1%83%D0%B2_%D0%9A%D1%83%D1%8F%D0%B2%D1%81%D0%BA%D0%B8%D0%B9\" title=\"Александрув Куявский\">Александрув Куявский</a>"
      ],
      "text/plain": [
       "<IPython.core.display.HTML object>"
      ]
     },
     "metadata": {},
     "output_type": "display_data"
    },
    {
     "data": {
      "text/html": [
       "<i>113.</i>  <a href=\"/wiki/%D0%90%D0%BB%D0%B8%D0%B0%D0%BD%D1%86%D0%B0_%22%D0%9C%D0%BE%D0%BB%D0%B4%D0%BE%D0%B2%D0%B0_%D0%9D%D0%BE%D0%B0%D1%81%D1%82%D1%80%D1%8D%22\" title='Алианца \"Молдова Ноастрэ\"'>Алианца \"Молдова Ноастрэ\"</a>"
      ],
      "text/plain": [
       "<IPython.core.display.HTML object>"
      ]
     },
     "metadata": {},
     "output_type": "display_data"
    },
    {
     "data": {
      "text/html": [
       "<i>114.</i>  <a href=\"/wiki/%D0%90%D0%BB%D0%B8%D0%B0%D0%BD%D1%86%D0%B0_%C2%AB%D0%9C%D0%BE%D0%BB%D0%B4%D0%BE%D0%B2%D0%B0_%D0%9D%D0%BE%D0%B0%D1%81%D1%82%D1%80%D1%8D%C2%BB\" title=\"Алианца «Молдова Ноастрэ»\">Алианца «Молдова Ноастрэ»</a>"
      ],
      "text/plain": [
       "<IPython.core.display.HTML object>"
      ]
     },
     "metadata": {},
     "output_type": "display_data"
    },
    {
     "data": {
      "text/html": [
       "<i>115.</i>  <a href=\"/wiki/%D0%90%D0%BB%D0%BB%D0%B5%D0%BC%D0%B0%D0%BD\" title=\"Аллеман\">Аллеман</a>"
      ],
      "text/plain": [
       "<IPython.core.display.HTML object>"
      ]
     },
     "metadata": {},
     "output_type": "display_data"
    },
    {
     "data": {
      "text/html": [
       "<i>116.</i>  <a href=\"/wiki/%D0%90%D0%BB%D1%84%D0%B0%D0%B1%D0%B5%D1%82%D1%83%D0%BB_%D0%BA%D0%B8%D1%80%D0%B8%D0%BB%D0%B8%D0%BA_%D1%80%D0%BE%D0%BC%D1%8B%D0%BD\" title=\"Алфабетул кирилик ромын\">Алфабетул кирилик ромын</a>"
      ],
      "text/plain": [
       "<IPython.core.display.HTML object>"
      ]
     },
     "metadata": {},
     "output_type": "display_data"
    },
    {
     "data": {
      "text/html": [
       "<i>117.</i>  <a href=\"/wiki/%D0%90%D0%BB%D1%84%D0%B0%D0%B1%D0%B5%D1%82%D1%83%D0%BB_%D0%BC%D0%BE%D0%BB%D0%B4%D0%BE%D0%B2%D0%B5%D0%BD%D0%B5%D1%81%D0%BA\" title=\"Алфабетул молдовенеск\">Алфабетул молдовенеск</a>"
      ],
      "text/plain": [
       "<IPython.core.display.HTML object>"
      ]
     },
     "metadata": {},
     "output_type": "display_data"
    },
    {
     "data": {
      "text/html": [
       "<i>118.</i>  <a class=\"mw-redirect\" href=\"/wiki/%D0%90%D0%BB%D1%84%D0%B0%D0%B1%D0%B5%D1%82%D1%83%D0%BB_%D1%87%D0%B8%D1%80%D0%B8%D0%BB%D0%B8%D0%BA_%D1%80%D0%BE%D0%BC%D1%8B%D0%BD\" title=\"Алфабетул чирилик ромын\">Алфабетул чирилик ромын</a>"
      ],
      "text/plain": [
       "<IPython.core.display.HTML object>"
      ]
     },
     "metadata": {},
     "output_type": "display_data"
    },
    {
     "data": {
      "text/html": [
       "<i>119.</i>  <a class=\"mw-redirect\" href=\"/wiki/%D0%90%D0%BD%D0%B4%D0%BE%D1%80%D0%B0\" title=\"Андора\">Андора</a>"
      ],
      "text/plain": [
       "<IPython.core.display.HTML object>"
      ]
     },
     "metadata": {},
     "output_type": "display_data"
    },
    {
     "data": {
      "text/html": [
       "<i>120.</i>  <a href=\"/wiki/%D0%90%D0%BD%D0%B5%D0%9D%D0%B8%D0%B9-%D0%9D%D0%BE%D0%B9\" title=\"АнеНий-Ной\">АнеНий-Ной</a>"
      ],
      "text/plain": [
       "<IPython.core.display.HTML object>"
      ]
     },
     "metadata": {},
     "output_type": "display_data"
    },
    {
     "data": {
      "text/html": [
       "<i>121.</i>  <a href=\"/wiki/%D0%90%D0%BD%D0%B8%D0%B9_1970\" title=\"Аний 1970\">Аний 1970</a>"
      ],
      "text/plain": [
       "<IPython.core.display.HTML object>"
      ]
     },
     "metadata": {},
     "output_type": "display_data"
    },
    {
     "data": {
      "text/html": [
       "<i>122.</i>  <a class=\"mw-redirect\" href=\"/wiki/%D0%90%D0%BD%D0%BD%D0%B5%D0%BD%D0%B8%D0%B9_%D0%9D%D0%BE%D0%B9\" title=\"Аннений Ной\">Аннений Ной</a>"
      ],
      "text/plain": [
       "<IPython.core.display.HTML object>"
      ]
     },
     "metadata": {},
     "output_type": "display_data"
    },
    {
     "data": {
      "text/html": [
       "<i>123.</i>  <a href=\"/wiki/%D0%90%D0%BD%D0%BD%D0%BE%D0%BF%D0%BE%D0%BB\" title=\"Аннопол\">Аннопол</a>"
      ],
      "text/plain": [
       "<IPython.core.display.HTML object>"
      ]
     },
     "metadata": {},
     "output_type": "display_data"
    },
    {
     "data": {
      "text/html": [
       "<i>124.</i>  <a href=\"/wiki/%D0%90%D0%BF%D0%BB%D0%B8%D0%BA%D0%B0%D1%86%D0%B8%D0%B5_%D0%B4%D0%B5_%D0%BA%D0%B0%D0%BB%D0%BA%D1%83%D0%BB%D0%B0%D1%82%D0%BE%D1%80\" title=\"Апликацие де калкулатор\">Апликацие де калкулатор</a>"
      ],
      "text/plain": [
       "<IPython.core.display.HTML object>"
      ]
     },
     "metadata": {},
     "output_type": "display_data"
    },
    {
     "data": {
      "text/html": [
       "<i>125.</i>  <a href=\"/wiki/%D0%90%D1%80%D0%BC%D0%B5%D0%BD%D0%B8%D1%8F\" title=\"Армения\">Армения</a>"
      ],
      "text/plain": [
       "<IPython.core.display.HTML object>"
      ]
     },
     "metadata": {},
     "output_type": "display_data"
    },
    {
     "data": {
      "text/html": [
       "<i>126.</i>  <a href=\"/wiki/%D0%90%D1%80%D1%85%D0%B8%D1%82%D0%B5%D0%BA%D1%82%D1%83%D1%80%D1%8D\" title=\"Архитектурэ\">Архитектурэ</a>"
      ],
      "text/plain": [
       "<IPython.core.display.HTML object>"
      ]
     },
     "metadata": {},
     "output_type": "display_data"
    },
    {
     "data": {
      "text/html": [
       "<i>127.</i>  <a href=\"/wiki/%D0%90%D1%81%D0%B8%D1%8F\" title=\"Асия\">Асия</a>"
      ],
      "text/plain": [
       "<IPython.core.display.HTML object>"
      ]
     },
     "metadata": {},
     "output_type": "display_data"
    },
    {
     "data": {
      "text/html": [
       "<i>128.</i>  <a href=\"/wiki/%D0%90%D1%81%D1%82%D1%80%D0%BE%D0%BD%D0%BE%D0%BC%D0%B8%D0%B5_%D1%88%D0%B8_%D0%B0%D1%81%D1%82%D1%80%D0%BE%D1%84%D0%B8%D0%B7%D0%B8%D0%BA%D1%8D\" title=\"Астрономие ши астрофизикэ\">Астрономие ши астрофизикэ</a>"
      ],
      "text/plain": [
       "<IPython.core.display.HTML object>"
      ]
     },
     "metadata": {},
     "output_type": "display_data"
    },
    {
     "data": {
      "text/html": [
       "<i>129.</i>  <a class=\"mw-redirect\" href=\"/wiki/%D0%90%D1%82%D0%B5%D0%BD%D1%82%D0%B0%D1%82%D0%B5%D0%BB%D0%B5_%D0%B4%D0%B8%D0%BD_7_%D0%B8%D1%83%D0%BB%D0%B8%D0%B5_2005_%D0%B4%D0%B5_%D0%BB%D0%B0_%D0%9B%D0%BE%D0%BD%D0%B4%D1%80%D0%B0\" title=\"Атентателе дин 7 иулие 2005 де ла Лондра\">Атентателе дин 7 иулие 2005 де ла Лондра</a>"
      ],
      "text/plain": [
       "<IPython.core.display.HTML object>"
      ]
     },
     "metadata": {},
     "output_type": "display_data"
    },
    {
     "data": {
      "text/html": [
       "<i>130.</i>  <a href=\"/wiki/%D0%90%D1%82%D0%B5%D0%BD%D1%82%D0%B0%D1%82%D0%B5%D0%BB%D0%B5_%D0%B4%D0%B8%D0%BD_7_%D1%8E%D0%BB%D0%B8%D0%B5_2005_%D0%B4%D0%B5_%D0%BB%D0%B0_%D0%9B%D0%BE%D0%BD%D0%B4%D1%80%D0%B0\" title=\"Атентателе дин 7 юлие 2005 де ла Лондра\">Атентателе дин 7 юлие 2005 де ла Лондра</a>"
      ],
      "text/plain": [
       "<IPython.core.display.HTML object>"
      ]
     },
     "metadata": {},
     "output_type": "display_data"
    },
    {
     "data": {
      "text/html": [
       "<i>131.</i>  <a href=\"/wiki/%D0%90%D1%83%D1%80%D0%B5%D0%BB%D0%B8%D1%83_%D0%91%D1%83%D1%81%D1%83%D0%B9%D0%BE%D0%BA\" title=\"Аурелиу Бусуйок\">Аурелиу Бусуйок</a>"
      ],
      "text/plain": [
       "<IPython.core.display.HTML object>"
      ]
     },
     "metadata": {},
     "output_type": "display_data"
    },
    {
     "data": {
      "text/html": [
       "<i>132.</i>  <a href=\"/wiki/%D0%90%D1%83%D1%81%D1%82%D1%80%D0%B8%D1%8F\" title=\"Аустрия\">Аустрия</a>"
      ],
      "text/plain": [
       "<IPython.core.display.HTML object>"
      ]
     },
     "metadata": {},
     "output_type": "display_data"
    },
    {
     "data": {
      "text/html": [
       "<i>133.</i>  <a href=\"/wiki/%D0%90%D1%84%D0%B3%D0%B0%D0%BD%D0%B8%D1%81%D1%82%D0%B0%D0%BD\" title=\"Афганистан\">Афганистан</a>"
      ],
      "text/plain": [
       "<IPython.core.display.HTML object>"
      ]
     },
     "metadata": {},
     "output_type": "display_data"
    },
    {
     "data": {
      "text/html": [
       "<i>134.</i>  <a href=\"/wiki/%D0%90%D1%85%D0%BC%D0%B5%D0%B4%D0%B0%D0%B1%D0%B0%D0%B4\" title=\"Ахмедабад\">Ахмедабад</a>"
      ],
      "text/plain": [
       "<IPython.core.display.HTML object>"
      ]
     },
     "metadata": {},
     "output_type": "display_data"
    },
    {
     "data": {
      "text/html": [
       "<i>135.</i>  <a href=\"/wiki/%D0%90%D1%8E%D0%B4\" title=\"Аюд\">Аюд</a>"
      ],
      "text/plain": [
       "<IPython.core.display.HTML object>"
      ]
     },
     "metadata": {},
     "output_type": "display_data"
    },
    {
     "data": {
      "text/html": [
       "<i>136.</i>  <a class=\"mw-redirect\" href=\"/wiki/%D0%91%D0%B0%D1%81%D0%B0%D1%80%D0%B0%D0%B1%D0%B8%D1%8F\" title=\"Басарабия\">Басарабия</a>"
      ],
      "text/plain": [
       "<IPython.core.display.HTML object>"
      ]
     },
     "metadata": {},
     "output_type": "display_data"
    },
    {
     "data": {
      "text/html": [
       "<i>137.</i>  <a href=\"/wiki/%D0%91%D0%B5%D0%BB%D0%B0%D1%80%D1%83%D1%81\" title=\"Беларус\">Беларус</a>"
      ],
      "text/plain": [
       "<IPython.core.display.HTML object>"
      ]
     },
     "metadata": {},
     "output_type": "display_data"
    },
    {
     "data": {
      "text/html": [
       "<i>138.</i>  <a href=\"/wiki/%D0%91%D0%B5%D0%BB%D0%B8%D1%88%D1%87%D0%B5\" title=\"Белишче\">Белишче</a>"
      ],
      "text/plain": [
       "<IPython.core.display.HTML object>"
      ]
     },
     "metadata": {},
     "output_type": "display_data"
    },
    {
     "data": {
      "text/html": [
       "<i>139.</i>  <a href=\"/wiki/%D0%91%D0%B5%D0%BB%D0%BE%D1%81%D1%82%D0%BE%D0%BA\" title=\"Белосток\">Белосток</a>"
      ],
      "text/plain": [
       "<IPython.core.display.HTML object>"
      ]
     },
     "metadata": {},
     "output_type": "display_data"
    },
    {
     "data": {
      "text/html": [
       "<i>140.</i>  <a href=\"/wiki/%D0%91%D0%B5%D1%81%D0%BB%D0%B0%D0%BD\" title=\"Беслан\">Беслан</a>"
      ],
      "text/plain": [
       "<IPython.core.display.HTML object>"
      ]
     },
     "metadata": {},
     "output_type": "display_data"
    },
    {
     "data": {
      "text/html": [
       "<i>141.</i>  <a class=\"mw-redirect\" href=\"/wiki/%D0%91%D0%B8%D1%81e%D1%80%D0%B8%D0%BAa_A%D0%B4e%D0%B2%D1%8D%D1%80a%D1%82%D1%83l%D1%83%D0%B8_%D0%98%D1%81%D1%83%D1%81\" title=\"Бисeрикa Aдeвэрaтуlуи Исус\">Бисeрикa Aдeвэрaтуlуи Исус</a>"
      ],
      "text/plain": [
       "<IPython.core.display.HTML object>"
      ]
     },
     "metadata": {},
     "output_type": "display_data"
    },
    {
     "data": {
      "text/html": [
       "<i>142.</i>  <a href=\"/wiki/%D0%91%D0%B8%D1%81e%D1%80%D0%B8%D0%BAa_A%D0%B4e%D0%B2%D1%8D%D1%80a%D1%82%D1%83%D0%BB%D1%83%D0%B9_%D0%98%D1%81%D1%83%D1%81\" title=\"Бисeрикa Aдeвэрaтулуй Исус\">Бисeрикa Aдeвэрaтулуй Исус</a>"
      ],
      "text/plain": [
       "<IPython.core.display.HTML object>"
      ]
     },
     "metadata": {},
     "output_type": "display_data"
    },
    {
     "data": {
      "text/html": [
       "<i>143.</i>  <a href=\"/wiki/%D0%91%D0%BE%D0%B6%D0%B5,_%D0%A6%D0%B0%D1%80%D1%8F_%D1%85%D1%80%D0%B0%D0%BD%D0%B8\" title=\"Боже, Царя храни\">Боже, Царя храни</a>"
      ],
      "text/plain": [
       "<IPython.core.display.HTML object>"
      ]
     },
     "metadata": {},
     "output_type": "display_data"
    },
    {
     "data": {
      "text/html": [
       "<i>144.</i>  <a href=\"/wiki/%D0%91%D0%BE%D0%BB%D0%B3%D1%80%D0%B0%D0%B4\" title=\"Болград\">Болград</a>"
      ],
      "text/plain": [
       "<IPython.core.display.HTML object>"
      ]
     },
     "metadata": {},
     "output_type": "display_data"
    },
    {
     "data": {
      "text/html": [
       "<i>145.</i>  <a href=\"/wiki/%D0%91%D0%BE%D0%BB%D0%B3%D1%80%D0%B0%D0%B4_(%D0%9E%D0%B4%D0%B5%D1%81%D1%81%D0%B0)\" title=\"Болград (Одесса)\">Болград (Одесса)</a>"
      ],
      "text/plain": [
       "<IPython.core.display.HTML object>"
      ]
     },
     "metadata": {},
     "output_type": "display_data"
    },
    {
     "data": {
      "text/html": [
       "<i>146.</i>  <a href=\"/wiki/%D0%91%D0%BE%D0%BB%D1%86%D0%B0%D0%BD%D0%BE\" title=\"Болцано\">Болцано</a>"
      ],
      "text/plain": [
       "<IPython.core.display.HTML object>"
      ]
     },
     "metadata": {},
     "output_type": "display_data"
    },
    {
     "data": {
      "text/html": [
       "<i>147.</i>  <a href=\"/wiki/%D0%91%D0%BE%D1%81%D1%82%D0%BE%D0%BD\" title=\"Бостон\">Бостон</a>"
      ],
      "text/plain": [
       "<IPython.core.display.HTML object>"
      ]
     },
     "metadata": {},
     "output_type": "display_data"
    },
    {
     "data": {
      "text/html": [
       "<i>148.</i>  <a href=\"/wiki/%D0%91%D0%BE%D1%83%D1%80\" title=\"Боур\">Боур</a>"
      ],
      "text/plain": [
       "<IPython.core.display.HTML object>"
      ]
     },
     "metadata": {},
     "output_type": "display_data"
    },
    {
     "data": {
      "text/html": [
       "<i>149.</i>  <a href=\"/wiki/%D0%91%D1%80%D0%B0%D1%88%D0%BE%D0%B2\" title=\"Брашов\">Брашов</a>"
      ],
      "text/plain": [
       "<IPython.core.display.HTML object>"
      ]
     },
     "metadata": {},
     "output_type": "display_data"
    },
    {
     "data": {
      "text/html": [
       "<i>150.</i>  <a href=\"/wiki/%D0%91%D1%80%D0%B8%D1%87%D0%B5%D0%BD%D1%8C\" title=\"Бричень\">Бричень</a>"
      ],
      "text/plain": [
       "<IPython.core.display.HTML object>"
      ]
     },
     "metadata": {},
     "output_type": "display_data"
    },
    {
     "data": {
      "text/html": [
       "<i>151.</i>  <a href=\"/wiki/%D0%91%D1%83%D0%BA%D1%83%D1%80%D0%B5%D1%88%D1%82%D1%8C\" title=\"Букурешть\">Букурешть</a>"
      ],
      "text/plain": [
       "<IPython.core.display.HTML object>"
      ]
     },
     "metadata": {},
     "output_type": "display_data"
    },
    {
     "data": {
      "text/html": [
       "<i>152.</i>  <a class=\"mw-redirect\" href=\"/wiki/%D0%91%D1%83%D0%BA%D1%83%D1%80%D0%B5%D1%88%D1%82%D1%8C_on_wheels!\" title=\"Букурешть on wheels!\">Букурешть on wheels!</a>"
      ],
      "text/plain": [
       "<IPython.core.display.HTML object>"
      ]
     },
     "metadata": {},
     "output_type": "display_data"
    },
    {
     "data": {
      "text/html": [
       "<i>153.</i>  <a href=\"/wiki/%D0%91%D1%83%D0%BB%D0%B3%D0%B0%D1%80%D0%B8%D1%8F\" title=\"Булгария\">Булгария</a>"
      ],
      "text/plain": [
       "<IPython.core.display.HTML object>"
      ]
     },
     "metadata": {},
     "output_type": "display_data"
    },
    {
     "data": {
      "text/html": [
       "<i>154.</i>  <a href=\"/wiki/%D0%91%D1%83%D1%80%D0%B0%D0%BD\" title=\"Буран\">Буран</a>"
      ],
      "text/plain": [
       "<IPython.core.display.HTML object>"
      ]
     },
     "metadata": {},
     "output_type": "display_data"
    },
    {
     "data": {
      "text/html": [
       "<i>155.</i>  <a href=\"/wiki/%D0%91%D1%83%D1%80%D0%B0%D0%BD_(%D0%B2%D0%B8%D1%81%D0%BA%D0%BE%D0%BB)\" title=\"Буран (вискол)\">Буран (вискол)</a>"
      ],
      "text/plain": [
       "<IPython.core.display.HTML object>"
      ]
     },
     "metadata": {},
     "output_type": "display_data"
    },
    {
     "data": {
      "text/html": [
       "<i>156.</i>  <a class=\"mw-redirect\" href=\"/wiki/%D0%91%D1%83%D3%82%D0%B0%D0%BA\" title=\"Буӂак\">Буӂак</a>"
      ],
      "text/plain": [
       "<IPython.core.display.HTML object>"
      ]
     },
     "metadata": {},
     "output_type": "display_data"
    },
    {
     "data": {
      "text/html": [
       "<i>157.</i>  <a class=\"mw-redirect\" href=\"/wiki/%D0%91%D1%83%D3%82%D1%8F%D0%BA\" title=\"Буӂяк\">Буӂяк</a>"
      ],
      "text/plain": [
       "<IPython.core.display.HTML object>"
      ]
     },
     "metadata": {},
     "output_type": "display_data"
    },
    {
     "data": {
      "text/html": [
       "<i>158.</i>  <a href=\"/wiki/%D0%91%D1%8C%D0%B5%D0%BB%D0%BE%D0%B2%D0%B0%D1%80\" title=\"Бьеловар\">Бьеловар</a>"
      ],
      "text/plain": [
       "<IPython.core.display.HTML object>"
      ]
     },
     "metadata": {},
     "output_type": "display_data"
    },
    {
     "data": {
      "text/html": [
       "<i>159.</i>  <a href=\"/wiki/%D0%91%D1%8D%D0%BB%D1%86%D1%8C\" title=\"Бэлць\">Бэлць</a>"
      ],
      "text/plain": [
       "<IPython.core.display.HTML object>"
      ]
     },
     "metadata": {},
     "output_type": "display_data"
    },
    {
     "data": {
      "text/html": [
       "<i>160.</i>  <a class=\"mw-redirect\" href=\"/wiki/%D0%91%D1%8F%D0%BB%D0%B8%D1%81%D1%82%D0%BE%D0%BA\" title=\"Бялисток\">Бялисток</a>"
      ],
      "text/plain": [
       "<IPython.core.display.HTML object>"
      ]
     },
     "metadata": {},
     "output_type": "display_data"
    },
    {
     "data": {
      "text/html": [
       "<i>161.</i>  <a href=\"/wiki/%D0%92%D0%B0%D0%B4%D1%83%D0%BB_%D0%BB%D1%83%D0%B9_%D0%92%D0%BE%D0%B4%D1%8D\" title=\"Вадул луй Водэ\">Вадул луй Водэ</a>"
      ],
      "text/plain": [
       "<IPython.core.display.HTML object>"
      ]
     },
     "metadata": {},
     "output_type": "display_data"
    },
    {
     "data": {
      "text/html": [
       "<i>162.</i>  <a href=\"/wiki/%D0%92%D0%B0%D1%80%D1%88%D0%BE%D0%B2%D0%B8%D1%8F\" title=\"Варшовия\">Варшовия</a>"
      ],
      "text/plain": [
       "<IPython.core.display.HTML object>"
      ]
     },
     "metadata": {},
     "output_type": "display_data"
    },
    {
     "data": {
      "text/html": [
       "<i>163.</i>  <a href=\"/wiki/%D0%92%D0%B0%D1%81%D0%B8%D0%BB%D0%B5_%D0%A2%D0%B0%D1%80%D0%BB%D0%B5%D0%B2\" title=\"Василе Тарлев\">Василе Тарлев</a>"
      ],
      "text/plain": [
       "<IPython.core.display.HTML object>"
      ]
     },
     "metadata": {},
     "output_type": "display_data"
    },
    {
     "data": {
      "text/html": [
       "<i>164.</i>  <a href=\"/wiki/%D0%92%D0%B0%D1%81%D0%B8%D0%BB%D0%B5_%D0%A7%D0%BE%D0%BA%D0%B0%D0%BD%D1%83\" title=\"Василе Чокану\">Василе Чокану</a>"
      ],
      "text/plain": [
       "<IPython.core.display.HTML object>"
      ]
     },
     "metadata": {},
     "output_type": "display_data"
    },
    {
     "data": {
      "text/html": [
       "<i>165.</i>  <a href=\"/wiki/%D0%92%D0%B0%D1%88%D0%B8%D0%BD%D0%B3%D1%82%D0%BE%D0%BD\" title=\"Вашингтон\">Вашингтон</a>"
      ],
      "text/plain": [
       "<IPython.core.display.HTML object>"
      ]
     },
     "metadata": {},
     "output_type": "display_data"
    },
    {
     "data": {
      "text/html": [
       "<i>166.</i>  <a class=\"mw-redirect\" href=\"/wiki/%D0%92%D0%B8%D0%BA%D0%B8\" title=\"Вики\">Вики</a>"
      ],
      "text/plain": [
       "<IPython.core.display.HTML object>"
      ]
     },
     "metadata": {},
     "output_type": "display_data"
    },
    {
     "data": {
      "text/html": [
       "<i>167.</i>  <a href=\"/wiki/%D0%92%D0%B8%D0%BA%D0%B8%D0%BC%D0%B5%D0%B4%D0%B8%D1%8F\" title=\"Викимедия\">Викимедия</a>"
      ],
      "text/plain": [
       "<IPython.core.display.HTML object>"
      ]
     },
     "metadata": {},
     "output_type": "display_data"
    },
    {
     "data": {
      "text/html": [
       "<i>168.</i>  <a href=\"/wiki/%D0%92%D0%B8%D0%BA%D0%B8%D0%BF%D0%B5%D0%B4%D0%B8%D1%8F\" title=\"Википедия\">Википедия</a>"
      ],
      "text/plain": [
       "<IPython.core.display.HTML object>"
      ]
     },
     "metadata": {},
     "output_type": "display_data"
    },
    {
     "data": {
      "text/html": [
       "<i>169.</i>  <a class=\"mw-redirect\" href=\"/wiki/%D0%92%D0%B8%D0%BA%D0%B8%D0%BF%D0%B5%D0%B4%D0%B8%D1%8F:Bot\" title=\"Википедия:Bot\">Википедия:Bot</a>"
      ],
      "text/plain": [
       "<IPython.core.display.HTML object>"
      ]
     },
     "metadata": {},
     "output_type": "display_data"
    },
    {
     "data": {
      "text/html": [
       "<i>170.</i>  <a class=\"mw-redirect\" href=\"/wiki/%D0%92%D0%B8%D0%BA%D0%B8%D0%BF%D0%B5%D0%B4%D0%B8%D1%8F:%D0%90%D0%BC%D0%B1%D0%B0%D1%81%D0%B0%D0%B4%D1%8D\" title=\"Википедия:Амбасадэ\">Википедия:Амбасадэ</a>"
      ],
      "text/plain": [
       "<IPython.core.display.HTML object>"
      ]
     },
     "metadata": {},
     "output_type": "display_data"
    },
    {
     "data": {
      "text/html": [
       "<i>171.</i>  <a class=\"mw-redirect\" href=\"/wiki/%D0%92%D0%B8%D0%BA%D0%B8%D0%BF%D0%B5%D0%B4%D0%B8%D1%8F:%D0%91%D0%B0%D0%B1%D0%B5%D0%BB\" title=\"Википедия:Бабел\">Википедия:Бабел</a>"
      ],
      "text/plain": [
       "<IPython.core.display.HTML object>"
      ]
     },
     "metadata": {},
     "output_type": "display_data"
    },
    {
     "data": {
      "text/html": [
       "<i>172.</i>  <a class=\"mw-redirect\" href=\"/wiki/%D0%92%D0%B8%D0%BA%D0%B8%D0%BF%D0%B5%D0%B4%D0%B8%D1%8F:%D0%91%D0%BE%D1%82\" title=\"Википедия:Бот\">Википедия:Бот</a>"
      ],
      "text/plain": [
       "<IPython.core.display.HTML object>"
      ]
     },
     "metadata": {},
     "output_type": "display_data"
    },
    {
     "data": {
      "text/html": [
       "<i>173.</i>  <a class=\"mw-redirect\" href=\"/wiki/%D0%92%D0%B8%D0%BA%D0%B8%D0%BF%D0%B5%D0%B4%D0%B8%D1%8F:%D0%94%D0%B5%D0%B7%D0%B0%D0%BC%D0%B1%D0%B8%D0%B3%D1%83%D0%B9%D0%B7%D0%B0%D1%80%D0%B5\" title=\"Википедия:Дезамбигуйзаре\">Википедия:Дезамбигуйзаре</a>"
      ],
      "text/plain": [
       "<IPython.core.display.HTML object>"
      ]
     },
     "metadata": {},
     "output_type": "display_data"
    },
    {
     "data": {
      "text/html": [
       "<i>174.</i>  <a class=\"mw-redirect\" href=\"/wiki/%D0%92%D0%B8%D0%BA%D0%B8%D0%BF%D0%B5%D0%B4%D0%B8%D1%8F:%D0%9A%D1%83%D0%BC_%D1%81%D1%8D_%D0%B5%D0%B4%D0%B8%D1%82%D0%B5%D0%B7%D1%8C_%D0%BE_%D0%BF%D0%B0%D3%82%D0%B8%D0%BD%D1%8D\" title=\"Википедия:Кум сэ едитезь о паӂинэ\">Википедия:Кум сэ едитезь о паӂинэ</a>"
      ],
      "text/plain": [
       "<IPython.core.display.HTML object>"
      ]
     },
     "metadata": {},
     "output_type": "display_data"
    },
    {
     "data": {
      "text/html": [
       "<i>175.</i>  <a class=\"mw-redirect\" href=\"/wiki/%D0%92%D0%B8%D0%BA%D0%B8%D0%BF%D0%B5%D0%B4%D0%B8%D1%8F:%D0%9A%D1%83%D0%BC_%D1%81%D1%8D_%D0%BC%D0%BE%D0%B4%D0%B8%D1%84%D0%B8%D1%87%D1%8C_%D0%BE_%D0%BF%D0%B0%D3%82%D0%B8%D0%BD%D1%8D\" title=\"Википедия:Кум сэ модифичь о паӂинэ\">Википедия:Кум сэ модифичь о паӂинэ</a>"
      ],
      "text/plain": [
       "<IPython.core.display.HTML object>"
      ]
     },
     "metadata": {},
     "output_type": "display_data"
    },
    {
     "data": {
      "text/html": [
       "<i>176.</i>  <a class=\"mw-redirect\" href=\"/wiki/%D0%92%D0%B8%D0%BA%D0%B8%D0%BF%D0%B5%D0%B4%D0%B8%D1%8F:%D0%9C%D0%B0%D0%BD%D1%83%D0%B0%D0%BB_%D0%B4%D0%B5_%D1%81%D1%82%D0%B8%D0%BB\" title=\"Википедия:Мануал де стил\">Википедия:Мануал де стил</a>"
      ],
      "text/plain": [
       "<IPython.core.display.HTML object>"
      ]
     },
     "metadata": {},
     "output_type": "display_data"
    },
    {
     "data": {
      "text/html": [
       "<i>177.</i>  <a href=\"/wiki/%D0%92%D0%B8%D0%BA%D1%82%D0%BE%D1%80_%D0%AE%D1%88%D1%87%D0%B5%D0%BD%D0%BA%D0%BE\" title=\"Виктор Юшченко\">Виктор Юшченко</a>"
      ],
      "text/plain": [
       "<IPython.core.display.HTML object>"
      ]
     },
     "metadata": {},
     "output_type": "display_data"
    },
    {
     "data": {
      "text/html": [
       "<i>178.</i>  <a href=\"/wiki/%D0%92%D0%B8%D0%BA%D1%82%D0%BE%D1%80_%D0%AF%D0%BD%D1%83%D0%BA%D0%BE%D0%B2%D0%B8%D1%87\" title=\"Виктор Янукович\">Виктор Янукович</a>"
      ],
      "text/plain": [
       "<IPython.core.display.HTML object>"
      ]
     },
     "metadata": {},
     "output_type": "display_data"
    },
    {
     "data": {
      "text/html": [
       "<i>179.</i>  <a class=\"mw-redirect\" href=\"/wiki/%D0%92%D0%B8%D0%BA%D1%82%D0%BE%D1%80_%D0%AF%D0%BD%D1%83%D0%BA%D0%BE%D0%B2%D0%B8%D1%87%D0%B8\" title=\"Виктор Януковичи\">Виктор Януковичи</a>"
      ],
      "text/plain": [
       "<IPython.core.display.HTML object>"
      ]
     },
     "metadata": {},
     "output_type": "display_data"
    },
    {
     "data": {
      "text/html": [
       "<i>180.</i>  <a href=\"/wiki/%D0%92%D0%B8%D0%BB%D1%8C%D0%BD%D1%8E%D1%81\" title=\"Вильнюс\">Вильнюс</a>"
      ],
      "text/plain": [
       "<IPython.core.display.HTML object>"
      ]
     },
     "metadata": {},
     "output_type": "display_data"
    },
    {
     "data": {
      "text/html": [
       "<i>181.</i>  <a href=\"/wiki/%D0%92%D0%B8%D0%BD%D0%BD%D0%B8%D1%86%D0%B0_(%D1%80%D0%B5%D3%82%D0%B8%D1%83%D0%BD%D0%B5)\" title=\"Винница (реӂиуне)\">Винница (реӂиуне)</a>"
      ],
      "text/plain": [
       "<IPython.core.display.HTML object>"
      ]
     },
     "metadata": {},
     "output_type": "display_data"
    },
    {
     "data": {
      "text/html": [
       "<i>182.</i>  <a href=\"/wiki/%D0%92%D0%B8%D1%82%D0%B0%D0%BB%D0%B8%D0%B5_%D0%A7%D0%BE%D0%B1%D0%B0%D0%BD%D1%83\" title=\"Виталие Чобану\">Виталие Чобану</a>"
      ],
      "text/plain": [
       "<IPython.core.display.HTML object>"
      ]
     },
     "metadata": {},
     "output_type": "display_data"
    },
    {
     "data": {
      "text/html": [
       "<i>183.</i>  <a class=\"mw-redirect\" href=\"/wiki/%D0%92%D0%BB%D0%B0%D0%B4%D0%B8%D0%BC%D0%B8%D1%80_%D0%91%D0%BE%D1%80%D0%BE%D0%BD%D0%B8%D0%BD\" title=\"Владимир Боронин\">Владимир Боронин</a>"
      ],
      "text/plain": [
       "<IPython.core.display.HTML object>"
      ]
     },
     "metadata": {},
     "output_type": "display_data"
    },
    {
     "data": {
      "text/html": [
       "<i>184.</i>  <a href=\"/wiki/%D0%92%D0%BB%D0%B0%D0%B4%D0%B8%D0%BC%D0%B8%D1%80_%D0%92%D0%BE%D1%80%D0%BE%D0%BD%D0%B8%D0%BD\" title=\"Владимир Воронин\">Владимир Воронин</a>"
      ],
      "text/plain": [
       "<IPython.core.display.HTML object>"
      ]
     },
     "metadata": {},
     "output_type": "display_data"
    },
    {
     "data": {
      "text/html": [
       "<i>185.</i>  <a href=\"/wiki/%D0%92%D0%BB%D0%B0%D0%B4%D0%B8%D0%BC%D0%B8%D1%80_%D0%9F%D1%83%D1%82%D0%B8%D0%BD\" title=\"Владимир Путин\">Владимир Путин</a>"
      ],
      "text/plain": [
       "<IPython.core.display.HTML object>"
      ]
     },
     "metadata": {},
     "output_type": "display_data"
    },
    {
     "data": {
      "text/html": [
       "<i>186.</i>  <a href=\"/wiki/%D0%93%D0%A3%D0%90%D0%9C\" title=\"ГУАМ\">ГУАМ</a>"
      ],
      "text/plain": [
       "<IPython.core.display.HTML object>"
      ]
     },
     "metadata": {},
     "output_type": "display_data"
    },
    {
     "data": {
      "text/html": [
       "<i>187.</i>  <a href=\"/wiki/%D0%93%D0%BB%D0%B5%D0%B1%D1%83%D1%81_%D0%A1%D0%B0%D0%B8%D0%BD%D1%87%D1%83%D0%BA\" title=\"Глебус Саинчук\">Глебус Саинчук</a>"
      ],
      "text/plain": [
       "<IPython.core.display.HTML object>"
      ]
     },
     "metadata": {},
     "output_type": "display_data"
    },
    {
     "data": {
      "text/html": [
       "<i>188.</i>  <a href=\"/wiki/%D0%93%D0%BB%D0%BE%D0%B4%D0%B5%D0%BD%D1%8C\" title=\"Глодень\">Глодень</a>"
      ],
      "text/plain": [
       "<IPython.core.display.HTML object>"
      ]
     },
     "metadata": {},
     "output_type": "display_data"
    },
    {
     "data": {
      "text/html": [
       "<i>189.</i>  <a href=\"/wiki/%D0%93%D1%80%D0%B5%D1%87%D0%B8%D1%8F\" title=\"Гречия\">Гречия</a>"
      ],
      "text/plain": [
       "<IPython.core.display.HTML object>"
      ]
     },
     "metadata": {},
     "output_type": "display_data"
    },
    {
     "data": {
      "text/html": [
       "<i>190.</i>  <a href=\"/wiki/%D0%93%D1%80%D0%B8%D0%B3%D0%BE%D1%80%D0%B5_%D0%92%D0%B8%D0%B5%D1%80%D1%83\" title=\"Григоре Виеру\">Григоре Виеру</a>"
      ],
      "text/plain": [
       "<IPython.core.display.HTML object>"
      ]
     },
     "metadata": {},
     "output_type": "display_data"
    },
    {
     "data": {
      "text/html": [
       "<i>191.</i>  <a href=\"/wiki/%D0%93%D1%80%D0%B8%D0%B3%D0%BE%D1%80%D0%B8%D0%BE%D0%BF%D0%BE%D0%BB\" title=\"Григориопол\">Григориопол</a>"
      ],
      "text/plain": [
       "<IPython.core.display.HTML object>"
      ]
     },
     "metadata": {},
     "output_type": "display_data"
    },
    {
     "data": {
      "text/html": [
       "<i>192.</i>  <a href=\"/wiki/%D0%93%D1%80%D0%BE%D0%B7%D0%BD%D1%8B%D0%B9\" title=\"Грозный\">Грозный</a>"
      ],
      "text/plain": [
       "<IPython.core.display.HTML object>"
      ]
     },
     "metadata": {},
     "output_type": "display_data"
    },
    {
     "data": {
      "text/html": [
       "<i>193.</i>  <a href=\"/wiki/%D0%93%D1%83%D0%B2%D0%B5%D1%80%D0%BD\" title=\"Гуверн\">Гуверн</a>"
      ],
      "text/plain": [
       "<IPython.core.display.HTML object>"
      ]
     },
     "metadata": {},
     "output_type": "display_data"
    },
    {
     "data": {
      "text/html": [
       "<i>194.</i>  <a href=\"/wiki/%D0%93%D1%8D%D0%B3%D1%8D%D1%83%D0%B7%D0%B8\" title=\"Гэгэузи\">Гэгэузи</a>"
      ],
      "text/plain": [
       "<IPython.core.display.HTML object>"
      ]
     },
     "metadata": {},
     "output_type": "display_data"
    },
    {
     "data": {
      "text/html": [
       "<i>195.</i>  <a href=\"/wiki/%D0%93%D1%8D%D0%B3%D1%8D%D1%83%D0%B7%D0%B8%D0%B9\" title=\"Гэгэузий\">Гэгэузий</a>"
      ],
      "text/plain": [
       "<IPython.core.display.HTML object>"
      ]
     },
     "metadata": {},
     "output_type": "display_data"
    },
    {
     "data": {
      "text/html": [
       "<i>196.</i>  <a href=\"/wiki/%D0%93%D1%8D%D0%B3%D1%8D%D1%83%D0%B7%D0%B8%D1%8F\" title=\"Гэгэузия\">Гэгэузия</a>"
      ],
      "text/plain": [
       "<IPython.core.display.HTML object>"
      ]
     },
     "metadata": {},
     "output_type": "display_data"
    },
    {
     "data": {
      "text/html": [
       "<i>197.</i>  <a class=\"mw-redirect\" href=\"/wiki/%D0%94%D0%B0%D0%BD%D1%81\" title=\"Данс\">Данс</a>"
      ],
      "text/plain": [
       "<IPython.core.display.HTML object>"
      ]
     },
     "metadata": {},
     "output_type": "display_data"
    },
    {
     "data": {
      "text/html": [
       "<i>198.</i>  <a class=\"mw-redirect\" href=\"/wiki/%D0%94%D0%B0%D0%BD%D1%81%D1%83%D1%80%D1%8C\" title=\"Дансурь\">Дансурь</a>"
      ],
      "text/plain": [
       "<IPython.core.display.HTML object>"
      ]
     },
     "metadata": {},
     "output_type": "display_data"
    },
    {
     "data": {
      "text/html": [
       "<i>199.</i>  <a href=\"/wiki/%D0%94%D0%B0%D1%87%D0%B8%D1%8F\" title=\"Дачия\">Дачия</a>"
      ],
      "text/plain": [
       "<IPython.core.display.HTML object>"
      ]
     },
     "metadata": {},
     "output_type": "display_data"
    },
    {
     "data": {
      "text/html": [
       "<i>200.</i>  <a href=\"/wiki/%D0%94%D0%B5%D0%BD%D1%81%D0%B8%D1%82%D0%B0%D1%82%D1%8F_%D0%BF%D0%BE%D0%BF%D1%83%D0%BB%D0%B0%D1%86%D0%B8%D0%B5%D0%B9\" title=\"Денситатя популацией\">Денситатя популацией</a>"
      ],
      "text/plain": [
       "<IPython.core.display.HTML object>"
      ]
     },
     "metadata": {},
     "output_type": "display_data"
    },
    {
     "data": {
      "text/html": [
       "<i>201.</i>  <a href=\"/wiki/%D0%94%D0%BD%D0%B5%D0%BF%D1%80%D0%BE%D0%BF%D0%B5%D1%82%D1%80%D0%BE%D0%B2%D1%81%D0%BA_(%D1%80%D0%B5%D3%82%D0%B8%D1%83%D0%BD%D0%B5)\" title=\"Днепропетровск (реӂиуне)\">Днепропетровск (реӂиуне)</a>"
      ],
      "text/plain": [
       "<IPython.core.display.HTML object>"
      ]
     },
     "metadata": {},
     "output_type": "display_data"
    },
    {
     "data": {
      "text/html": [
       "<i>202.</i>  <a class=\"mw-redirect\" href=\"/wiki/%D0%94%D0%BD%D0%B5%D0%BF%D1%80%D0%BE%D0%BF%D0%B5%D1%82%D1%80%D0%BE%D0%B2%D1%81%D0%BA_(%D1%80%D0%B5%D3%82%D1%8E%D0%BD%D0%B5)\" title=\"Днепропетровск (реӂюне)\">Днепропетровск (реӂюне)</a>"
      ],
      "text/plain": [
       "<IPython.core.display.HTML object>"
      ]
     },
     "metadata": {},
     "output_type": "display_data"
    },
    {
     "data": {
      "text/html": [
       "<i>203.</i>  <a class=\"mw-redirect\" href=\"/wiki/%D0%94%D0%BE%D0%BC%D0%B5%D0%BD%D0%B8%D1%83_%D0%BD%D0%B0%D1%86%D0%B8%D0%BE%D0%BD%D0%B0%D0%BB_%D0%B4%D0%B5_%D0%BD%D0%B8%D0%B2%D0%B5%D0%BB_%D1%81%D1%83%D0%BF%D0%B5%D1%80%D0%B8%D0%BE%D1%80\" title=\"Домениу национал де нивел супериор\">Домениу национал де нивел супериор</a>"
      ],
      "text/plain": [
       "<IPython.core.display.HTML object>"
      ]
     },
     "metadata": {},
     "output_type": "display_data"
    },
    {
     "data": {
      "text/html": [
       "<i>204.</i>  <a href=\"/wiki/%D0%94%D0%BE%D0%BD%D0%B5%D1%86%D0%BA_(%D1%80%D0%B5%D3%82%D0%B8%D1%83%D0%BD%D0%B5)\" title=\"Донецк (реӂиуне)\">Донецк (реӂиуне)</a>"
      ],
      "text/plain": [
       "<IPython.core.display.HTML object>"
      ]
     },
     "metadata": {},
     "output_type": "display_data"
    },
    {
     "data": {
      "text/html": [
       "<i>205.</i>  <a href=\"/wiki/%D0%94%D1%80%D0%B0%D0%B3%D0%BE%D1%81%D1%82%D1%8F_%D0%94%D0%B8%D0%BD_%D0%A2%D0%B5%D0%B9\" title=\"Драгостя Дин Тей\">Драгостя Дин Тей</a>"
      ],
      "text/plain": [
       "<IPython.core.display.HTML object>"
      ]
     },
     "metadata": {},
     "output_type": "display_data"
    },
    {
     "data": {
      "text/html": [
       "<i>206.</i>  <a href=\"/wiki/%D0%94%D1%80%D0%B0%D1%85%D0%BC%D1%8D\" title=\"Драхмэ\">Драхмэ</a>"
      ],
      "text/plain": [
       "<IPython.core.display.HTML object>"
      ]
     },
     "metadata": {},
     "output_type": "display_data"
    },
    {
     "data": {
      "text/html": [
       "<i>207.</i>  <a href=\"/wiki/%D0%94%D1%80%D0%BE%D0%BA%D0%B8%D1%8F\" title=\"Дрокия\">Дрокия</a>"
      ],
      "text/plain": [
       "<IPython.core.display.HTML object>"
      ]
     },
     "metadata": {},
     "output_type": "display_data"
    },
    {
     "data": {
      "text/html": [
       "<i>208.</i>  <a href=\"/wiki/%D0%94%D1%83%D0%B1%D1%8D%D1%81%D0%B0%D1%80%D1%8C\" title=\"Дубэсарь\">Дубэсарь</a>"
      ],
      "text/plain": [
       "<IPython.core.display.HTML object>"
      ]
     },
     "metadata": {},
     "output_type": "display_data"
    },
    {
     "data": {
      "text/html": [
       "<i>209.</i>  <a href=\"/wiki/%D0%94%D1%83%D0%BD%D1%8D%D1%80%D0%B5\" title=\"Дунэре\">Дунэре</a>"
      ],
      "text/plain": [
       "<IPython.core.display.HTML object>"
      ]
     },
     "metadata": {},
     "output_type": "display_data"
    },
    {
     "data": {
      "text/html": [
       "<i>210.</i>  <a href=\"/wiki/%D0%95%D0%B2%D1%80%D0%B5%D0%B9\" title=\"Еврей\">Еврей</a>"
      ],
      "text/plain": [
       "<IPython.core.display.HTML object>"
      ]
     },
     "metadata": {},
     "output_type": "display_data"
    },
    {
     "data": {
      "text/html": [
       "<i>211.</i>  <a href=\"/wiki/%D0%95%D0%B4%D0%B8%D0%BD%D0%B5%D1%86\" title=\"Единец\">Единец</a>"
      ],
      "text/plain": [
       "<IPython.core.display.HTML object>"
      ]
     },
     "metadata": {},
     "output_type": "display_data"
    },
    {
     "data": {
      "text/html": [
       "<i>212.</i>  <a href=\"/wiki/%D0%95%D0%B9%D0%B2%D0%BE%D0%BD%D0%B4%D0%B5%D0%B9%D0%BB\" title=\"Ейвондейл\">Ейвондейл</a>"
      ],
      "text/plain": [
       "<IPython.core.display.HTML object>"
      ]
     },
     "metadata": {},
     "output_type": "display_data"
    },
    {
     "data": {
      "text/html": [
       "<i>213.</i>  <a href=\"/wiki/%D0%95%D0%BD%D1%87%D0%B8%D0%BA%D0%BB%D0%BE%D0%BF%D0%B5%D0%B4%D0%B8%D0%B5\" title=\"Енчиклопедие\">Енчиклопедие</a>"
      ],
      "text/plain": [
       "<IPython.core.display.HTML object>"
      ]
     },
     "metadata": {},
     "output_type": "display_data"
    },
    {
     "data": {
      "text/html": [
       "<i>214.</i>  <a class=\"mw-redirect\" href=\"/wiki/%D0%95%D1%81%D1%82%D0%BE%D0%BD%D0%B8%D1%8F\" title=\"Естония\">Естония</a>"
      ],
      "text/plain": [
       "<IPython.core.display.HTML object>"
      ]
     },
     "metadata": {},
     "output_type": "display_data"
    },
    {
     "data": {
      "text/html": [
       "<i>215.</i>  <a href=\"/wiki/%D0%95%D1%83%D1%80%D0%B0%D1%81%D0%B8%D1%8F\" title=\"Еурасия\">Еурасия</a>"
      ],
      "text/plain": [
       "<IPython.core.display.HTML object>"
      ]
     },
     "metadata": {},
     "output_type": "display_data"
    },
    {
     "data": {
      "text/html": [
       "<i>216.</i>  <a href=\"/wiki/%D0%95%D1%83%D1%80%D0%BE%D0%BF%D0%B0\" title=\"Еуропа\">Еуропа</a>"
      ],
      "text/plain": [
       "<IPython.core.display.HTML object>"
      ]
     },
     "metadata": {},
     "output_type": "display_data"
    },
    {
     "data": {
      "text/html": [
       "<i>217.</i>  <a href=\"/wiki/%D0%96%D0%B0%D0%BF%D0%BE%D0%BD%D0%B8%D1%8F\" title=\"Жапония\">Жапония</a>"
      ],
      "text/plain": [
       "<IPython.core.display.HTML object>"
      ]
     },
     "metadata": {},
     "output_type": "display_data"
    },
    {
     "data": {
      "text/html": [
       "<i>218.</i>  <a href=\"/wiki/%D0%96%D1%83%D0%B4%D0%B5%D1%86%D0%B5%D0%BB%D0%B5_%D0%9B%D0%B5%D1%82%D0%BE%D0%BD%D0%B5%D0%B9\" title=\"Жудецеле Летоней\">Жудецеле Летоней</a>"
      ],
      "text/plain": [
       "<IPython.core.display.HTML object>"
      ]
     },
     "metadata": {},
     "output_type": "display_data"
    },
    {
     "data": {
      "text/html": [
       "<i>219.</i>  <a href=\"/wiki/%D0%96%D1%83%D0%B4%D0%B5%D1%86%D0%B5%D0%BB%D0%B5_%D0%9B%D0%B8%D1%82%D1%83%D0%B0%D0%BD%D0%B8%D0%B5%D0%B9\" title=\"Жудецеле Литуанией\">Жудецеле Литуанией</a>"
      ],
      "text/plain": [
       "<IPython.core.display.HTML object>"
      ]
     },
     "metadata": {},
     "output_type": "display_data"
    },
    {
     "data": {
      "text/html": [
       "<i>220.</i>  <a href=\"/wiki/%D0%96%D1%83%D0%B4%D0%B5%D1%86%D0%B5%D0%BB%D0%B5_%D0%A0%D0%B5%D0%BF%D1%83%D0%B1%D0%BB%D0%B8%D1%87%D0%B8%D0%B9_%D0%9C%D0%BE%D0%BB%D0%B4%D0%BE%D0%B2%D0%B0\" title=\"Жудецеле Републичий Молдова\">Жудецеле Републичий Молдова</a>"
      ],
      "text/plain": [
       "<IPython.core.display.HTML object>"
      ]
     },
     "metadata": {},
     "output_type": "display_data"
    },
    {
     "data": {
      "text/html": [
       "<i>221.</i>  <a href=\"/wiki/%D0%96%D1%83%D0%B4%D0%B5%D1%86%D1%83%D0%BB_%D0%90%D0%B9%D0%B7%D0%BA%D1%80%D0%B0%D1%83%D0%BA%D0%BB%D0%B5%D1%81\" title=\"Жудецул Айзкрауклес\">Жудецул Айзкрауклес</a>"
      ],
      "text/plain": [
       "<IPython.core.display.HTML object>"
      ]
     },
     "metadata": {},
     "output_type": "display_data"
    },
    {
     "data": {
      "text/html": [
       "<i>222.</i>  <a href=\"/wiki/%D0%96%D1%83%D0%B4%D0%B5%D1%86%D1%83%D0%BB_%D0%90%D0%BB%D1%83%D0%BA%D1%81%D0%BD%D0%B5%D1%81\" title=\"Жудецул Алукснес\">Жудецул Алукснес</a>"
      ],
      "text/plain": [
       "<IPython.core.display.HTML object>"
      ]
     },
     "metadata": {},
     "output_type": "display_data"
    },
    {
     "data": {
      "text/html": [
       "<i>223.</i>  <a href=\"/wiki/%D0%96%D1%83%D0%B4%D0%B5%D1%86%D1%83%D0%BB_%D0%91%D0%B0%D1%83%D1%81%D0%BA%D0%B0%D1%81\" title=\"Жудецул Баускас\">Жудецул Баускас</a>"
      ],
      "text/plain": [
       "<IPython.core.display.HTML object>"
      ]
     },
     "metadata": {},
     "output_type": "display_data"
    },
    {
     "data": {
      "text/html": [
       "<i>224.</i>  <a href=\"/wiki/%D0%96%D1%83%D0%B4%D0%B5%D1%86%D1%83%D0%BB_%D0%91%D0%B8%D1%85%D0%BE%D1%80\" title=\"Жудецул Бихор\">Жудецул Бихор</a>"
      ],
      "text/plain": [
       "<IPython.core.display.HTML object>"
      ]
     },
     "metadata": {},
     "output_type": "display_data"
    },
    {
     "data": {
      "text/html": [
       "<i>225.</i>  <a href=\"/wiki/%D0%96%D1%83%D0%B4%D0%B5%D1%86%D1%83%D0%BB_%D0%91%D1%8D%D0%BB%D1%86%D1%8C\" title=\"Жудецул Бэлць\">Жудецул Бэлць</a>"
      ],
      "text/plain": [
       "<IPython.core.display.HTML object>"
      ]
     },
     "metadata": {},
     "output_type": "display_data"
    },
    {
     "data": {
      "text/html": [
       "<i>226.</i>  <a href=\"/wiki/%D0%96%D1%83%D0%B4%D0%B5%D1%86%D1%83%D0%BB_%D0%92%D0%B0%D0%BB%D0%BC%D0%B8%D0%B5%D1%80%D0%B0%D1%81\" title=\"Жудецул Валмиерас\">Жудецул Валмиерас</a>"
      ],
      "text/plain": [
       "<IPython.core.display.HTML object>"
      ]
     },
     "metadata": {},
     "output_type": "display_data"
    },
    {
     "data": {
      "text/html": [
       "<i>227.</i>  <a href=\"/wiki/%D0%96%D1%83%D0%B4%D0%B5%D1%86%D1%83%D0%BB_%D0%92%D0%B5%D0%BD%D1%82%D1%81%D0%BF%D0%B8%D0%BB%D1%81\" title=\"Жудецул Вентспилс\">Жудецул Вентспилс</a>"
      ],
      "text/plain": [
       "<IPython.core.display.HTML object>"
      ]
     },
     "metadata": {},
     "output_type": "display_data"
    },
    {
     "data": {
      "text/html": [
       "<i>228.</i>  <a href=\"/wiki/%D0%96%D1%83%D0%B4%D0%B5%D1%86%D1%83%D0%BB_%D0%93%D1%83%D0%BB%D0%B1%D0%B5%D0%BD%D0%B5%D1%81\" title=\"Жудецул Гулбенес\">Жудецул Гулбенес</a>"
      ],
      "text/plain": [
       "<IPython.core.display.HTML object>"
      ]
     },
     "metadata": {},
     "output_type": "display_data"
    },
    {
     "data": {
      "text/html": [
       "<i>229.</i>  <a href=\"/wiki/%D0%96%D1%83%D0%B4%D0%B5%D1%86%D1%83%D0%BB_%D0%94%D0%B0%D1%83%D0%B3%D0%B0%D0%B2%D0%BF%D0%B8%D0%BB%D1%81\" title=\"Жудецул Даугавпилс\">Жудецул Даугавпилс</a>"
      ],
      "text/plain": [
       "<IPython.core.display.HTML object>"
      ]
     },
     "metadata": {},
     "output_type": "display_data"
    },
    {
     "data": {
      "text/html": [
       "<i>230.</i>  <a class=\"mw-redirect\" href=\"/wiki/%D0%96%D1%83%D0%B4%D0%B5%D1%86%D1%83%D0%BB_%D0%94%D0%B0%D1%83%D0%B3%D0%B0%D0%B2%D0%BF%D0%B8%D0%BB%D1%81_on_wheel\" title=\"Жудецул Даугавпилс on wheel\">Жудецул Даугавпилс on wheel</a>"
      ],
      "text/plain": [
       "<IPython.core.display.HTML object>"
      ]
     },
     "metadata": {},
     "output_type": "display_data"
    },
    {
     "data": {
      "text/html": [
       "<i>231.</i>  <a href=\"/wiki/%D0%96%D1%83%D0%B4%D0%B5%D1%86%D1%83%D0%BB_%D0%94%D0%BE%D0%B1%D0%B5%D0%BB%D0%B5%D1%81\" title=\"Жудецул Добелес\">Жудецул Добелес</a>"
      ],
      "text/plain": [
       "<IPython.core.display.HTML object>"
      ]
     },
     "metadata": {},
     "output_type": "display_data"
    },
    {
     "data": {
      "text/html": [
       "<i>232.</i>  <a href=\"/wiki/%D0%96%D1%83%D0%B4%D0%B5%D1%86%D1%83%D0%BB_%D0%95%D0%B4%D0%B8%D0%BD%D0%B5%D1%86\" title=\"Жудецул Единец\">Жудецул Единец</a>"
      ],
      "text/plain": [
       "<IPython.core.display.HTML object>"
      ]
     },
     "metadata": {},
     "output_type": "display_data"
    },
    {
     "data": {
      "text/html": [
       "<i>233.</i>  <a href=\"/wiki/%D0%96%D1%83%D0%B4%D0%B5%D1%86%D1%83%D0%BB_%D0%95%D0%BA%D0%B0%D0%B1%D0%BF%D0%B8%D0%BB%D1%81\" title=\"Жудецул Екабпилс\">Жудецул Екабпилс</a>"
      ],
      "text/plain": [
       "<IPython.core.display.HTML object>"
      ]
     },
     "metadata": {},
     "output_type": "display_data"
    },
    {
     "data": {
      "text/html": [
       "<i>234.</i>  <a href=\"/wiki/%D0%96%D1%83%D0%B4%D0%B5%D1%86%D1%83%D0%BB_%D0%9A%D0%B0%D1%85%D1%83%D0%BB\" title=\"Жудецул Кахул\">Жудецул Кахул</a>"
      ],
      "text/plain": [
       "<IPython.core.display.HTML object>"
      ]
     },
     "metadata": {},
     "output_type": "display_data"
    },
    {
     "data": {
      "text/html": [
       "<i>235.</i>  <a href=\"/wiki/%D0%96%D1%83%D0%B4%D0%B5%D1%86%D1%83%D0%BB_%D0%9A%D0%B8%D1%88%D0%B8%D0%BD%D1%8D%D1%83\" title=\"Жудецул Кишинэу\">Жудецул Кишинэу</a>"
      ],
      "text/plain": [
       "<IPython.core.display.HTML object>"
      ]
     },
     "metadata": {},
     "output_type": "display_data"
    },
    {
     "data": {
      "text/html": [
       "<i>236.</i>  <a href=\"/wiki/%D0%96%D1%83%D0%B4%D0%B5%D1%86%D1%83%D0%BB_%D0%9A%D1%80%D0%B0%D1%81%D0%BB%D0%B0%D0%B2%D0%B0%D1%81\" title=\"Жудецул Краславас\">Жудецул Краславас</a>"
      ],
      "text/plain": [
       "<IPython.core.display.HTML object>"
      ]
     },
     "metadata": {},
     "output_type": "display_data"
    },
    {
     "data": {
      "text/html": [
       "<i>237.</i>  <a href=\"/wiki/%D0%96%D1%83%D0%B4%D0%B5%D1%86%D1%83%D0%BB_%D0%9A%D1%83%D0%BB%D0%B4%D0%B8%D0%B3%D0%B0%D1%81\" title=\"Жудецул Кулдигас\">Жудецул Кулдигас</a>"
      ],
      "text/plain": [
       "<IPython.core.display.HTML object>"
      ]
     },
     "metadata": {},
     "output_type": "display_data"
    },
    {
     "data": {
      "text/html": [
       "<i>238.</i>  <a href=\"/wiki/%D0%96%D1%83%D0%B4%D0%B5%D1%86%D1%83%D0%BB_%D0%9B%D0%B8%D0%BC%D0%B1%D0%B0%D0%B7%D1%83\" title=\"Жудецул Лимбазу\">Жудецул Лимбазу</a>"
      ],
      "text/plain": [
       "<IPython.core.display.HTML object>"
      ]
     },
     "metadata": {},
     "output_type": "display_data"
    },
    {
     "data": {
      "text/html": [
       "<i>239.</i>  <a href=\"/wiki/%D0%96%D1%83%D0%B4%D0%B5%D1%86%D1%83%D0%BB_%D0%9B%D1%8D%D0%BF%D1%83%D1%88%D0%BD%D0%B0\" title=\"Жудецул Лэпушна\">Жудецул Лэпушна</a>"
      ],
      "text/plain": [
       "<IPython.core.display.HTML object>"
      ]
     },
     "metadata": {},
     "output_type": "display_data"
    },
    {
     "data": {
      "text/html": [
       "<i>240.</i>  <a href=\"/wiki/%D0%96%D1%83%D0%B4%D0%B5%D1%86%D1%83%D0%BB_%D0%9C%D0%B0%D0%B4%D0%BE%D0%BD%D0%B0%D1%81\" title=\"Жудецул Мадонас\">Жудецул Мадонас</a>"
      ],
      "text/plain": [
       "<IPython.core.display.HTML object>"
      ]
     },
     "metadata": {},
     "output_type": "display_data"
    },
    {
     "data": {
      "text/html": [
       "<i>241.</i>  <a href=\"/wiki/%D0%96%D1%83%D0%B4%D0%B5%D1%86%D1%83%D0%BB_%D0%9C%D0%B0%D1%80%D0%B8%D1%8F%D0%BC%D0%BF%D0%BE%D0%BB%D0%B5\" title=\"Жудецул Мариямполе\">Жудецул Мариямполе</a>"
      ],
      "text/plain": [
       "<IPython.core.display.HTML object>"
      ]
     },
     "metadata": {},
     "output_type": "display_data"
    },
    {
     "data": {
      "text/html": [
       "<i>242.</i>  <a href=\"/wiki/%D0%96%D1%83%D0%B4%D0%B5%D1%86%D1%83%D0%BB_%D0%9E%D0%B3%D1%80%D0%B5%D1%81\" title=\"Жудецул Огрес\">Жудецул Огрес</a>"
      ],
      "text/plain": [
       "<IPython.core.display.HTML object>"
      ]
     },
     "metadata": {},
     "output_type": "display_data"
    },
    {
     "data": {
      "text/html": [
       "<i>243.</i>  <a href=\"/wiki/%D0%96%D1%83%D0%B4%D0%B5%D1%86%D1%83%D0%BB_%D0%9E%D1%80%D1%85%D0%B5%D0%B9\" title=\"Жудецул Орхей\">Жудецул Орхей</a>"
      ],
      "text/plain": [
       "<IPython.core.display.HTML object>"
      ]
     },
     "metadata": {},
     "output_type": "display_data"
    },
    {
     "data": {
      "text/html": [
       "<i>244.</i>  <a class=\"mw-redirect\" href=\"/wiki/%D0%96%D1%83%D0%B4%D0%B5%D1%86%D1%83%D0%BB_%D0%9F%D0%B0%D0%B2%D0%B5%D0%BD%D0%B5%D0%B6%D0%B8%D1%81\" title=\"Жудецул Павенежис\">Жудецул Павенежис</a>"
      ],
      "text/plain": [
       "<IPython.core.display.HTML object>"
      ]
     },
     "metadata": {},
     "output_type": "display_data"
    },
    {
     "data": {
      "text/html": [
       "<i>245.</i>  <a href=\"/wiki/%D0%96%D1%83%D0%B4%D0%B5%D1%86%D1%83%D0%BB_%D0%9F%D0%B0%D0%BD%D0%B5%D0%B2%D0%B5%D0%B6%D0%B8%D1%81\" title=\"Жудецул Паневежис\">Жудецул Паневежис</a>"
      ],
      "text/plain": [
       "<IPython.core.display.HTML object>"
      ]
     },
     "metadata": {},
     "output_type": "display_data"
    },
    {
     "data": {
      "text/html": [
       "<i>246.</i>  <a href=\"/wiki/%D0%96%D1%83%D0%B4%D0%B5%D1%86%D1%83%D0%BB_%D0%9F%D1%80%D0%B5%D0%B9%D0%BB%D1%83\" title=\"Жудецул Прейлу\">Жудецул Прейлу</a>"
      ],
      "text/plain": [
       "<IPython.core.display.HTML object>"
      ]
     },
     "metadata": {},
     "output_type": "display_data"
    },
    {
     "data": {
      "text/html": [
       "<i>247.</i>  <a href=\"/wiki/%D0%96%D1%83%D0%B4%D0%B5%D1%86%D1%83%D0%BB_%D0%A0%D0%B5%D0%B7%D0%B5%D0%BA%D0%BD%D0%B5\" title=\"Жудецул Резекне\">Жудецул Резекне</a>"
      ],
      "text/plain": [
       "<IPython.core.display.HTML object>"
      ]
     },
     "metadata": {},
     "output_type": "display_data"
    },
    {
     "data": {
      "text/html": [
       "<i>248.</i>  <a href=\"/wiki/%D0%96%D1%83%D0%B4%D0%B5%D1%86%D1%83%D0%BB_%D0%A0%D0%B8%D0%B3%D0%B0\" title=\"Жудецул Рига\">Жудецул Рига</a>"
      ],
      "text/plain": [
       "<IPython.core.display.HTML object>"
      ]
     },
     "metadata": {},
     "output_type": "display_data"
    },
    {
     "data": {
      "text/html": [
       "<i>249.</i>  <a href=\"/wiki/%D0%96%D1%83%D0%B4%D0%B5%D1%86%D1%83%D0%BB_%D0%A1%D0%B0%D0%BB%D0%B4%D1%83%D1%81\" title=\"Жудецул Салдус\">Жудецул Салдус</a>"
      ],
      "text/plain": [
       "<IPython.core.display.HTML object>"
      ]
     },
     "metadata": {},
     "output_type": "display_data"
    },
    {
     "data": {
      "text/html": [
       "<i>250.</i>  <a href=\"/wiki/%D0%96%D1%83%D0%B4%D0%B5%D1%86%D1%83%D0%BB_%D0%A1%D0%BE%D1%80%D0%BE%D0%BA%D0%B0\" title=\"Жудецул Сорока\">Жудецул Сорока</a>"
      ],
      "text/plain": [
       "<IPython.core.display.HTML object>"
      ]
     },
     "metadata": {},
     "output_type": "display_data"
    },
    {
     "data": {
      "text/html": [
       "<i>251.</i>  <a href=\"/wiki/%D0%96%D1%83%D0%B4%D0%B5%D1%86%D1%83%D0%BB_%D0%A2%D0%B0%D0%BB%D1%81%D1%83\" title=\"Жудецул Талсу\">Жудецул Талсу</a>"
      ],
      "text/plain": [
       "<IPython.core.display.HTML object>"
      ]
     },
     "metadata": {},
     "output_type": "display_data"
    },
    {
     "data": {
      "text/html": [
       "<i>252.</i>  <a href=\"/wiki/%D0%96%D1%83%D0%B4%D0%B5%D1%86%D1%83%D0%BB_%D0%A2%D0%B8%D0%B3%D0%B8%D0%BD%D0%B0\" title=\"Жудецул Тигина\">Жудецул Тигина</a>"
      ],
      "text/plain": [
       "<IPython.core.display.HTML object>"
      ]
     },
     "metadata": {},
     "output_type": "display_data"
    },
    {
     "data": {
      "text/html": [
       "<i>253.</i>  <a href=\"/wiki/%D0%96%D1%83%D0%B4%D0%B5%D1%86%D1%83%D0%BB_%D0%A2%D1%83%D0%BA%D1%83%D0%BC%D0%B0\" title=\"Жудецул Тукума\">Жудецул Тукума</a>"
      ],
      "text/plain": [
       "<IPython.core.display.HTML object>"
      ]
     },
     "metadata": {},
     "output_type": "display_data"
    },
    {
     "data": {
      "text/html": [
       "<i>254.</i>  <a href=\"/wiki/%D0%96%D1%83%D0%B4%D0%B5%D1%86%D1%83%D0%BB_%D0%A3%D0%BD%D0%B3%D0%B5%D0%BD%D1%8C\" title=\"Жудецул Унгень\">Жудецул Унгень</a>"
      ],
      "text/plain": [
       "<IPython.core.display.HTML object>"
      ]
     },
     "metadata": {},
     "output_type": "display_data"
    },
    {
     "data": {
      "text/html": [
       "<i>255.</i>  <a href=\"/wiki/%D0%96%D1%83%D0%B4%D0%B5%D1%86%D1%83%D0%BB_%D0%A6%D0%B5%D1%81%D1%83\" title=\"Жудецул Цесу\">Жудецул Цесу</a>"
      ],
      "text/plain": [
       "<IPython.core.display.HTML object>"
      ]
     },
     "metadata": {},
     "output_type": "display_data"
    },
    {
     "data": {
      "text/html": [
       "<i>256.</i>  <a href=\"/wiki/%D0%96%D1%83%D0%B4%D0%B5%D1%86%D1%83%D0%BB_%D0%A8%D1%8F%D1%83%D0%BB%D1%8F%D0%B9\" title=\"Жудецул Шяуляй\">Жудецул Шяуляй</a>"
      ],
      "text/plain": [
       "<IPython.core.display.HTML object>"
      ]
     },
     "metadata": {},
     "output_type": "display_data"
    },
    {
     "data": {
      "text/html": [
       "<i>257.</i>  <a href=\"/wiki/%D0%96%D1%83%D0%B4%D0%B5%D1%86%D1%83%D0%BB_%D0%AE%D1%80%D0%BC%D0%B0%D0%BB%D0%B0\" title=\"Жудецул Юрмала\">Жудецул Юрмала</a>"
      ],
      "text/plain": [
       "<IPython.core.display.HTML object>"
      ]
     },
     "metadata": {},
     "output_type": "display_data"
    },
    {
     "data": {
      "text/html": [
       "<i>258.</i>  <a class=\"mw-redirect\" href=\"/wiki/%D0%96%D1%83%D1%80%D0%B4%D0%B5%D1%86%D1%83%D0%BB_%D0%91%D1%8D%D0%BB%D1%86%D1%8C\" title=\"Журдецул Бэлць\">Журдецул Бэлць</a>"
      ],
      "text/plain": [
       "<IPython.core.display.HTML object>"
      ]
     },
     "metadata": {},
     "output_type": "display_data"
    },
    {
     "data": {
      "text/html": [
       "<i>259.</i>  <a href=\"/wiki/%D0%97%D0%B0%D0%BF%D0%BE%D1%80%D0%BE%D0%B6%D1%8C%D0%B5_(%D1%80%D0%B5%D3%82%D0%B8%D1%83%D0%BD%D0%B5)\" title=\"Запорожье (реӂиуне)\">Запорожье (реӂиуне)</a>"
      ],
      "text/plain": [
       "<IPython.core.display.HTML object>"
      ]
     },
     "metadata": {},
     "output_type": "display_data"
    },
    {
     "data": {
      "text/html": [
       "<i>260.</i>  <a class=\"mw-redirect\" href=\"/wiki/%D0%97%D0%B0%D0%BF%D0%BE%D1%80%D0%BE%D0%B6%D1%8C%D0%B5_(%D1%80%D0%B5%D3%82%D1%8E%D0%BD%D0%B5)\" title=\"Запорожье (реӂюне)\">Запорожье (реӂюне)</a>"
      ],
      "text/plain": [
       "<IPython.core.display.HTML object>"
      ]
     },
     "metadata": {},
     "output_type": "display_data"
    },
    {
     "data": {
      "text/html": [
       "<i>261.</i>  <a href=\"/wiki/%D0%97%D0%B4%D0%BE%D0%B1_%D1%88%D0%B8_%D0%97%D0%B4%D1%83%D0%B1\" title=\"Здоб ши Здуб\">Здоб ши Здуб</a>"
      ],
      "text/plain": [
       "<IPython.core.display.HTML object>"
      ]
     },
     "metadata": {},
     "output_type": "display_data"
    },
    {
     "data": {
      "text/html": [
       "<i>262.</i>  <a href=\"/wiki/%D0%98%D0%B2%D0%B0%D0%BD%D0%BE-%D0%A4%D1%80%D0%B0%D0%BD%D0%BA%D0%BE%D0%B2%D1%81%D0%BA_(%D1%80%D0%B5%D3%82%D0%B8%D1%83%D0%BD%D0%B5)\" title=\"Ивано-Франковск (реӂиуне)\">Ивано-Франковск (реӂиуне)</a>"
      ],
      "text/plain": [
       "<IPython.core.display.HTML object>"
      ]
     },
     "metadata": {},
     "output_type": "display_data"
    },
    {
     "data": {
      "text/html": [
       "<i>263.</i>  <a class=\"mw-redirect\" href=\"/wiki/%D0%98%D0%B2%D0%B0%D0%BD%D0%BE-%D0%A4%D1%80%D0%B0%D0%BD%D0%BA%D0%BE%D0%B2%D1%81%D0%BA_(%D1%80%D0%B5%D3%82%D1%8E%D0%BD%D0%B5)\" title=\"Ивано-Франковск (реӂюне)\">Ивано-Франковск (реӂюне)</a>"
      ],
      "text/plain": [
       "<IPython.core.display.HTML object>"
      ]
     },
     "metadata": {},
     "output_type": "display_data"
    },
    {
     "data": {
      "text/html": [
       "<i>264.</i>  <a href=\"/wiki/%D0%98%D0%B3%D0%BE%D1%80_%D0%A1%D0%BC%D0%B8%D1%80%D0%BD%D0%BE%D0%B2\" title=\"Игор Смирнов\">Игор Смирнов</a>"
      ],
      "text/plain": [
       "<IPython.core.display.HTML object>"
      ]
     },
     "metadata": {},
     "output_type": "display_data"
    },
    {
     "data": {
      "text/html": [
       "<i>265.</i>  <a href=\"/wiki/%D0%98%D0%B7%D0%BC%D0%B0%D0%B8%D0%BB\" title=\"Измаил\">Измаил</a>"
      ],
      "text/plain": [
       "<IPython.core.display.HTML object>"
      ]
     },
     "metadata": {},
     "output_type": "display_data"
    },
    {
     "data": {
      "text/html": [
       "<i>266.</i>  <a class=\"mw-redirect\" href=\"/wiki/%D0%98%D0%BC%D0%BD_%D0%BD%D0%B0%D1%86%D0%B8%D0%BE%D0%BD%D0%B0%D0%BB\" title=\"Имн национал\">Имн национал</a>"
      ],
      "text/plain": [
       "<IPython.core.display.HTML object>"
      ]
     },
     "metadata": {},
     "output_type": "display_data"
    },
    {
     "data": {
      "text/html": [
       "<i>267.</i>  <a href=\"/wiki/%D0%98%D0%BC%D0%BF%D0%B5%D1%80%D0%B8%D1%83%D0%BB_%D0%A0%D0%BE%D0%BC%D0%B0%D0%BD\" title=\"Империул Роман\">Империул Роман</a>"
      ],
      "text/plain": [
       "<IPython.core.display.HTML object>"
      ]
     },
     "metadata": {},
     "output_type": "display_data"
    },
    {
     "data": {
      "text/html": [
       "<i>268.</i>  <a href=\"/wiki/%D0%98%D0%BD%D0%B4%D0%B8%D1%8F\" title=\"Индия\">Индия</a>"
      ],
      "text/plain": [
       "<IPython.core.display.HTML object>"
      ]
     },
     "metadata": {},
     "output_type": "display_data"
    },
    {
     "data": {
      "text/html": [
       "<i>269.</i>  <a href=\"/wiki/%D0%98%D0%BD%D1%82%D0%B5%D1%80%D0%BD%D0%B5%D1%82\" title=\"Интернет\">Интернет</a>"
      ],
      "text/plain": [
       "<IPython.core.display.HTML object>"
      ]
     },
     "metadata": {},
     "output_type": "display_data"
    },
    {
     "data": {
      "text/html": [
       "<i>270.</i>  <a href=\"/wiki/%D0%98%D0%BE%D0%B0%D0%BD_%D0%9F%D0%B0%D1%83%D0%BB_%D0%B0%D0%BB_II-%D0%BB%D1%8F\" title=\"Иоан Паул ал II-ля\">Иоан Паул ал II-ля</a>"
      ],
      "text/plain": [
       "<IPython.core.display.HTML object>"
      ]
     },
     "metadata": {},
     "output_type": "display_data"
    },
    {
     "data": {
      "text/html": [
       "<i>271.</i>  <a class=\"mw-redirect\" href=\"/wiki/%D0%98%D0%BE%D0%B0%D0%BD_%D0%9F%D0%B0%D1%83%D0%BB_%D0%B0%D0%BB_%E2%85%A1-%D0%BB%D1%8F\" title=\"Иоан Паул ал Ⅱ-ля\">Иоан Паул ал Ⅱ-ля</a>"
      ],
      "text/plain": [
       "<IPython.core.display.HTML object>"
      ]
     },
     "metadata": {},
     "output_type": "display_data"
    },
    {
     "data": {
      "text/html": [
       "<i>272.</i>  <a href=\"/wiki/%D0%98%D0%BE%D0%BD_%D0%94%D1%80%D1%83%D1%86%D1%8D\" title=\"Ион Друцэ\">Ион Друцэ</a>"
      ],
      "text/plain": [
       "<IPython.core.display.HTML object>"
      ]
     },
     "metadata": {},
     "output_type": "display_data"
    },
    {
     "data": {
      "text/html": [
       "<i>273.</i>  <a href=\"/wiki/%D0%98%D1%80%D0%B0%D0%BA\" title=\"Ирак\">Ирак</a>"
      ],
      "text/plain": [
       "<IPython.core.display.HTML object>"
      ]
     },
     "metadata": {},
     "output_type": "display_data"
    },
    {
     "data": {
      "text/html": [
       "<i>274.</i>  <a class=\"mw-redirect\" href=\"/wiki/%D0%98%D1%80%D0%BB%D0%B0%D0%BD%D0%B4%D0%B0\" title=\"Ирланда\">Ирланда</a>"
      ],
      "text/plain": [
       "<IPython.core.display.HTML object>"
      ]
     },
     "metadata": {},
     "output_type": "display_data"
    },
    {
     "data": {
      "text/html": [
       "<i>275.</i>  <a href=\"/wiki/%D0%98%D1%81%D0%BB%D0%B0%D0%BC\" title=\"Ислам\">Ислам</a>"
      ],
      "text/plain": [
       "<IPython.core.display.HTML object>"
      ]
     },
     "metadata": {},
     "output_type": "display_data"
    },
    {
     "data": {
      "text/html": [
       "<i>276.</i>  <a class=\"mw-redirect\" href=\"/wiki/%D0%98%D1%81%D0%BB%D0%B0%D0%BC%D0%B8%D0%B7%D0%BC\" title=\"Исламизм\">Исламизм</a>"
      ],
      "text/plain": [
       "<IPython.core.display.HTML object>"
      ]
     },
     "metadata": {},
     "output_type": "display_data"
    },
    {
     "data": {
      "text/html": [
       "<i>277.</i>  <a href=\"/wiki/%D0%98%D1%81%D1%82%D0%BE%D1%80%D0%B8%D1%8F_%D0%9C%D0%BE%D0%BB%D0%B4%D0%BE%D0%B2%D0%B5%D0%B9\" title=\"История Молдовей\">История Молдовей</a>"
      ],
      "text/plain": [
       "<IPython.core.display.HTML object>"
      ]
     },
     "metadata": {},
     "output_type": "display_data"
    },
    {
     "data": {
      "text/html": [
       "<i>278.</i>  <a href=\"/wiki/%D0%98%D1%82%D0%B0%D0%BB%D0%B8%D1%8F\" title=\"Италия\">Италия</a>"
      ],
      "text/plain": [
       "<IPython.core.display.HTML object>"
      ]
     },
     "metadata": {},
     "output_type": "display_data"
    },
    {
     "data": {
      "text/html": [
       "<i>279.</i>  <a href=\"/wiki/%D0%99%D1%8B%D1%85%D0%B2%D0%B8\" title=\"Йыхви\">Йыхви</a>"
      ],
      "text/plain": [
       "<IPython.core.display.HTML object>"
      ]
     },
     "metadata": {},
     "output_type": "display_data"
    },
    {
     "data": {
      "text/html": [
       "<i>280.</i>  <a class=\"mw-redirect\" href=\"/wiki/%D0%9Ao%D0%BC%D0%BF%D1%83%D1%82ep\" title=\"Кoмпутep\">Кoмпутep</a>"
      ],
      "text/plain": [
       "<IPython.core.display.HTML object>"
      ]
     },
     "metadata": {},
     "output_type": "display_data"
    },
    {
     "data": {
      "text/html": [
       "<i>281.</i>  <a class=\"mw-redirect\" href=\"/wiki/%D0%9Ao%D0%BC%D0%BF%D1%8E%D1%82ep\" title=\"Кoмпютep\">Кoмпютep</a>"
      ],
      "text/plain": [
       "<IPython.core.display.HTML object>"
      ]
     },
     "metadata": {},
     "output_type": "display_data"
    },
    {
     "data": {
      "text/html": [
       "<i>282.</i>  <a href=\"/wiki/%D0%9A%D0%B0%D0%B1%D1%83%D0%BB\" title=\"Кабул\">Кабул</a>"
      ],
      "text/plain": [
       "<IPython.core.display.HTML object>"
      ]
     },
     "metadata": {},
     "output_type": "display_data"
    },
    {
     "data": {
      "text/html": [
       "<i>283.</i>  <a href=\"/wiki/%D0%9A%D0%B0%D0%B7%D0%B0%D0%BD\" title=\"Казан\">Казан</a>"
      ],
      "text/plain": [
       "<IPython.core.display.HTML object>"
      ]
     },
     "metadata": {},
     "output_type": "display_data"
    },
    {
     "data": {
      "text/html": [
       "<i>284.</i>  <a href=\"/wiki/%D0%9A%D0%B0%D0%B7%D0%B0%D1%85%D1%81%D1%82%D0%B0%D0%BD\" title=\"Казахстан\">Казахстан</a>"
      ],
      "text/plain": [
       "<IPython.core.display.HTML object>"
      ]
     },
     "metadata": {},
     "output_type": "display_data"
    },
    {
     "data": {
      "text/html": [
       "<i>285.</i>  <a href=\"/wiki/%D0%9A%D0%B0%D0%BB%D0%B8%D0%BD%D0%B8%D0%BD%D0%B3%D1%80%D0%B0%D0%B4\" title=\"Калининград\">Калининград</a>"
      ],
      "text/plain": [
       "<IPython.core.display.HTML object>"
      ]
     },
     "metadata": {},
     "output_type": "display_data"
    },
    {
     "data": {
      "text/html": [
       "<i>286.</i>  <a href=\"/wiki/%D0%9A%D0%B0%D0%BB%D0%B8%D1%84%D0%BE%D1%80%D0%BD%D0%B8%D1%8F\" title=\"Калифорния\">Калифорния</a>"
      ],
      "text/plain": [
       "<IPython.core.display.HTML object>"
      ]
     },
     "metadata": {},
     "output_type": "display_data"
    },
    {
     "data": {
      "text/html": [
       "<i>287.</i>  <a href=\"/wiki/%D0%9A%D0%B0%D0%BB%D0%BC%D1%8B%D0%BA%D0%B8%D1%8F\" title=\"Калмыкия\">Калмыкия</a>"
      ],
      "text/plain": [
       "<IPython.core.display.HTML object>"
      ]
     },
     "metadata": {},
     "output_type": "display_data"
    },
    {
     "data": {
      "text/html": [
       "<i>288.</i>  <a href=\"/wiki/%D0%9A%D0%B0%D0%BC%D0%B5%D0%BD%D0%BA%D0%B0\" title=\"Каменка\">Каменка</a>"
      ],
      "text/plain": [
       "<IPython.core.display.HTML object>"
      ]
     },
     "metadata": {},
     "output_type": "display_data"
    },
    {
     "data": {
      "text/html": [
       "<i>289.</i>  <a class=\"mw-redirect\" href=\"/wiki/%D0%9A%D0%B0%D0%BF%D0%B8%D1%82%D0%B0%D0%BB%D0%B0\" title=\"Капитала\">Капитала</a>"
      ],
      "text/plain": [
       "<IPython.core.display.HTML object>"
      ]
     },
     "metadata": {},
     "output_type": "display_data"
    },
    {
     "data": {
      "text/html": [
       "<i>290.</i>  <a href=\"/wiki/%D0%9A%D0%B0%D0%BF%D0%B8%D1%82%D0%B0%D0%BB%D1%8D\" title=\"Капиталэ\">Капиталэ</a>"
      ],
      "text/plain": [
       "<IPython.core.display.HTML object>"
      ]
     },
     "metadata": {},
     "output_type": "display_data"
    },
    {
     "data": {
      "text/html": [
       "<i>291.</i>  <a href=\"/wiki/%D0%9A%D0%B0%D1%85%D1%83%D0%BB\" title=\"Кахул\">Кахул</a>"
      ],
      "text/plain": [
       "<IPython.core.display.HTML object>"
      ]
     },
     "metadata": {},
     "output_type": "display_data"
    },
    {
     "data": {
      "text/html": [
       "<i>292.</i>  <a href=\"/wiki/%D0%9A%D0%B5%D0%B9%D0%BB%D0%B0\" title=\"Кейла\">Кейла</a>"
      ],
      "text/plain": [
       "<IPython.core.display.HTML object>"
      ]
     },
     "metadata": {},
     "output_type": "display_data"
    },
    {
     "data": {
      "text/html": [
       "<i>293.</i>  <a href=\"/wiki/%D0%9A%D0%B8%D0%B2%D0%B8%D1%8B%D0%BB%D0%B8\" title=\"Кивиыли\">Кивиыли</a>"
      ],
      "text/plain": [
       "<IPython.core.display.HTML object>"
      ]
     },
     "metadata": {},
     "output_type": "display_data"
    },
    {
     "data": {
      "text/html": [
       "<i>294.</i>  <a href=\"/wiki/%D0%9A%D0%B8%D0%B5%D0%B2\" title=\"Киев\">Киев</a>"
      ],
      "text/plain": [
       "<IPython.core.display.HTML object>"
      ]
     },
     "metadata": {},
     "output_type": "display_data"
    },
    {
     "data": {
      "text/html": [
       "<i>295.</i>  <a href=\"/wiki/%D0%9A%D0%B8%D0%BB%D0%B8%D1%8F\" title=\"Килия\">Килия</a>"
      ],
      "text/plain": [
       "<IPython.core.display.HTML object>"
      ]
     },
     "metadata": {},
     "output_type": "display_data"
    },
    {
     "data": {
      "text/html": [
       "<i>296.</i>  <a href=\"/wiki/%D0%9A%D0%B8%D0%BB%D0%BE%D0%BC%D0%B5%D1%82%D1%80%D1%83_%D0%BF%D1%8D%D1%82%D1%80%D0%B0%D1%82\" title=\"Километру пэтрат\">Километру пэтрат</a>"
      ],
      "text/plain": [
       "<IPython.core.display.HTML object>"
      ]
     },
     "metadata": {},
     "output_type": "display_data"
    },
    {
     "data": {
      "text/html": [
       "<i>297.</i>  <a href=\"/wiki/%D0%9A%D0%B8%D0%BC%D0%B8%D0%B5\" title=\"Кимие\">Кимие</a>"
      ],
      "text/plain": [
       "<IPython.core.display.HTML object>"
      ]
     },
     "metadata": {},
     "output_type": "display_data"
    },
    {
     "data": {
      "text/html": [
       "<i>298.</i>  <a href=\"/wiki/%D0%9A%D0%B8%D1%88%D0%B8%D0%BD%D1%8D%D1%83\" title=\"Кишинэу\">Кишинэу</a>"
      ],
      "text/plain": [
       "<IPython.core.display.HTML object>"
      ]
     },
     "metadata": {},
     "output_type": "display_data"
    },
    {
     "data": {
      "text/html": [
       "<i>299.</i>  <a href=\"/wiki/%D0%9A%D0%BB%D0%B0%D0%B9%D0%BF%D0%B5%D0%B4%D0%B0\" title=\"Клайпеда\">Клайпеда</a>"
      ],
      "text/plain": [
       "<IPython.core.display.HTML object>"
      ]
     },
     "metadata": {},
     "output_type": "display_data"
    },
    {
     "data": {
      "text/html": [
       "<i>300.</i>  <a class=\"mw-redirect\" href=\"/wiki/%D0%9A%D0%BE%D0%B0%D1%81%D1%82%D0%B0_%D0%B4%D0%B5_%D1%84%D0%B8%D0%BB%D0%B4%D0%B5%D1%88\" title=\"Коаста де филдеш\">Коаста де филдеш</a>"
      ],
      "text/plain": [
       "<IPython.core.display.HTML object>"
      ]
     },
     "metadata": {},
     "output_type": "display_data"
    },
    {
     "data": {
      "text/html": [
       "<i>301.</i>  <a href=\"/wiki/%D0%9A%D0%BE%D0%B4%D0%BB%D1%8F\" title=\"Кодля\">Кодля</a>"
      ],
      "text/plain": [
       "<IPython.core.display.HTML object>"
      ]
     },
     "metadata": {},
     "output_type": "display_data"
    },
    {
     "data": {
      "text/html": [
       "<i>302.</i>  <a class=\"mw-redirect\" href=\"/wiki/%D0%9A%D0%BE%D0%B4%D0%BB%D1%8F_on_wheels\" title=\"Кодля on wheels\">Кодля on wheels</a>"
      ],
      "text/plain": [
       "<IPython.core.display.HTML object>"
      ]
     },
     "metadata": {},
     "output_type": "display_data"
    },
    {
     "data": {
      "text/html": [
       "<i>303.</i>  <a href=\"/wiki/%D0%9A%D0%BE%D0%BC%D0%BF%D1%83%D1%82%D0%B5%D1%80\" title=\"Компутер\">Компутер</a>"
      ],
      "text/plain": [
       "<IPython.core.display.HTML object>"
      ]
     },
     "metadata": {},
     "output_type": "display_data"
    },
    {
     "data": {
      "text/html": [
       "<i>304.</i>  <a href=\"/wiki/%D0%9A%D0%BE%D0%BC%D1%80%D0%B0%D1%82\" title=\"Комрат\">Комрат</a>"
      ],
      "text/plain": [
       "<IPython.core.display.HTML object>"
      ]
     },
     "metadata": {},
     "output_type": "display_data"
    },
    {
     "data": {
      "text/html": [
       "<i>305.</i>  <a href=\"/wiki/%D0%9A%D0%BE%D0%BC%D1%83%D0%BD%D0%B8%D0%BA%D0%B0%D1%86%D0%B8%D0%B5\" title=\"Комуникацие\">Комуникацие</a>"
      ],
      "text/plain": [
       "<IPython.core.display.HTML object>"
      ]
     },
     "metadata": {},
     "output_type": "display_data"
    },
    {
     "data": {
      "text/html": [
       "<i>306.</i>  <a href=\"/wiki/%D0%9A%D0%BE%D0%BC%D1%83%D0%BD%D0%B8%D1%82%D0%B0%D1%82%D1%8F_%D0%A1%D1%82%D0%B0%D1%82%D0%B5%D0%BB%D0%BE%D1%80_%D0%98%D0%BD%D0%B4%D0%B5%D0%BF%D0%B5%D0%BD%D0%B4%D0%B5%D0%BD%D1%82%D0%B5\" title=\"Комунитатя Стателор Индепенденте\">Комунитатя Стателор Индепенденте</a>"
      ],
      "text/plain": [
       "<IPython.core.display.HTML object>"
      ]
     },
     "metadata": {},
     "output_type": "display_data"
    },
    {
     "data": {
      "text/html": [
       "<i>307.</i>  <a href=\"/wiki/%D0%9A%D0%BE%D0%BD%D1%82%D0%B8%D0%BD%D0%B5%D0%BD%D1%82\" title=\"Континент\">Континент</a>"
      ],
      "text/plain": [
       "<IPython.core.display.HTML object>"
      ]
     },
     "metadata": {},
     "output_type": "display_data"
    },
    {
     "data": {
      "text/html": [
       "<i>308.</i>  <a href=\"/wiki/%D0%9A%D0%BE%D0%BD%D1%82%D1%80%D0%B0%D1%84%D0%BE%D1%80%D1%82\" title=\"Контрафорт\">Контрафорт</a>"
      ],
      "text/plain": [
       "<IPython.core.display.HTML object>"
      ]
     },
     "metadata": {},
     "output_type": "display_data"
    },
    {
     "data": {
      "text/html": [
       "<i>309.</i>  <a href=\"/wiki/%D0%9A%D0%BE%D1%80%D0%B5%D1%8F_%D0%B4%D0%B5_%D0%A1%D1%83%D0%B4\" title=\"Корея де Суд\">Корея де Суд</a>"
      ],
      "text/plain": [
       "<IPython.core.display.HTML object>"
      ]
     },
     "metadata": {},
     "output_type": "display_data"
    },
    {
     "data": {
      "text/html": [
       "<i>310.</i>  <a href=\"/wiki/%D0%9A%D0%BE%D1%80%D1%82%D0%B8%D0%BD%D0%B0_%D0%B4%D0%B5_%D1%84%D0%B8%D0%B5%D1%80\" title=\"Кортина де фиер\">Кортина де фиер</a>"
      ],
      "text/plain": [
       "<IPython.core.display.HTML object>"
      ]
     },
     "metadata": {},
     "output_type": "display_data"
    },
    {
     "data": {
      "text/html": [
       "<i>311.</i>  <a class=\"mw-redirect\" href=\"/wiki/%D0%9A%D0%BE%D1%82-%D0%B4%27%D0%98%D0%B2%D1%83%D0%B0%D1%80\" title=\"Кот-д'Ивуар\">Кот-д'Ивуар</a>"
      ],
      "text/plain": [
       "<IPython.core.display.HTML object>"
      ]
     },
     "metadata": {},
     "output_type": "display_data"
    },
    {
     "data": {
      "text/html": [
       "<i>312.</i>  <a href=\"/wiki/%D0%9A%D0%BE%D1%85%D1%82%D0%BB%D0%B0-%D0%AF%D1%80%D0%B2%D0%B5\" title=\"Кохтла-Ярве\">Кохтла-Ярве</a>"
      ],
      "text/plain": [
       "<IPython.core.display.HTML object>"
      ]
     },
     "metadata": {},
     "output_type": "display_data"
    },
    {
     "data": {
      "text/html": [
       "<i>313.</i>  <a href=\"/wiki/%D0%9A%D1%80%D0%B0%D0%BA%D0%BE%D0%B2%D0%B8%D1%8F\" title=\"Краковия\">Краковия</a>"
      ],
      "text/plain": [
       "<IPython.core.display.HTML object>"
      ]
     },
     "metadata": {},
     "output_type": "display_data"
    },
    {
     "data": {
      "text/html": [
       "<i>314.</i>  <a href=\"/wiki/%D0%9A%D1%80%D0%B5%D1%88%D1%82%D0%B8%D0%BD%D0%B8%D0%B7%D0%BC\" title=\"Крештинизм\">Крештинизм</a>"
      ],
      "text/plain": [
       "<IPython.core.display.HTML object>"
      ]
     },
     "metadata": {},
     "output_type": "display_data"
    },
    {
     "data": {
      "text/html": [
       "<i>315.</i>  <a class=\"mw-redirect\" href=\"/wiki/%D0%9A%D1%80%D0%B5%D1%88%D1%82%D0%B8%D0%BD%D0%B8%D0%B7%D0%BC_on_wheels!\" title=\"Крештинизм on wheels!\">Крештинизм on wheels!</a>"
      ],
      "text/plain": [
       "<IPython.core.display.HTML object>"
      ]
     },
     "metadata": {},
     "output_type": "display_data"
    },
    {
     "data": {
      "text/html": [
       "<i>316.</i>  <a href=\"/wiki/%D0%9A%D1%80%D0%B8%D0%BC%D0%B5%D1%8F\" title=\"Кримея\">Кримея</a>"
      ],
      "text/plain": [
       "<IPython.core.display.HTML object>"
      ]
     },
     "metadata": {},
     "output_type": "display_data"
    },
    {
     "data": {
      "text/html": [
       "<i>317.</i>  <a class=\"mw-redirect\" href=\"/wiki/%D0%9A%D1%80%D0%B8%D1%83%D0%BB%D0%B5%D0%BD%D1%8C\" title=\"Криулень\">Криулень</a>"
      ],
      "text/plain": [
       "<IPython.core.display.HTML object>"
      ]
     },
     "metadata": {},
     "output_type": "display_data"
    },
    {
     "data": {
      "text/html": [
       "<i>318.</i>  <a href=\"/wiki/%D0%9A%D1%80%D0%BE%D0%B0%D1%86%D0%B8%D1%8F\" title=\"Кроация\">Кроация</a>"
      ],
      "text/plain": [
       "<IPython.core.display.HTML object>"
      ]
     },
     "metadata": {},
     "output_type": "display_data"
    },
    {
     "data": {
      "text/html": [
       "<i>319.</i>  <a href=\"/wiki/%D0%9A%D1%80%D1%8E%D0%BB%D0%B5%D0%BD%D1%8C\" title=\"Крюлень\">Крюлень</a>"
      ],
      "text/plain": [
       "<IPython.core.display.HTML object>"
      ]
     },
     "metadata": {},
     "output_type": "display_data"
    },
    {
     "data": {
      "text/html": [
       "<i>320.</i>  <a href=\"/wiki/%D0%9A%D1%83%D0%BB%D1%82%D1%83%D1%80%D1%8D\" title=\"Културэ\">Културэ</a>"
      ],
      "text/plain": [
       "<IPython.core.display.HTML object>"
      ]
     },
     "metadata": {},
     "output_type": "display_data"
    },
    {
     "data": {
      "text/html": [
       "<i>321.</i>  <a href=\"/wiki/%D0%9A%D1%83%D1%80%D0%B5%D0%BA%D0%B8\" title=\"Куреки\">Куреки</a>"
      ],
      "text/plain": [
       "<IPython.core.display.HTML object>"
      ]
     },
     "metadata": {},
     "output_type": "display_data"
    },
    {
     "data": {
      "text/html": [
       "<i>322.</i>  <a href=\"/wiki/%D0%9A%D1%83%D1%80%D1%83%D0%B2\" title=\"Курув\">Курув</a>"
      ],
      "text/plain": [
       "<IPython.core.display.HTML object>"
      ]
     },
     "metadata": {},
     "output_type": "display_data"
    },
    {
     "data": {
      "text/html": [
       "<i>323.</i>  <a class=\"mw-redirect\" href=\"/wiki/%D0%9A%D1%8B%D0%B9%D0%BD%D0%B5\" title=\"Кыйне\">Кыйне</a>"
      ],
      "text/plain": [
       "<IPython.core.display.HTML object>"
      ]
     },
     "metadata": {},
     "output_type": "display_data"
    },
    {
     "data": {
      "text/html": [
       "<i>324.</i>  <a href=\"/wiki/%D0%9A%D1%8B%D0%BD%D0%B5\" title=\"Кыне\">Кыне</a>"
      ],
      "text/plain": [
       "<IPython.core.display.HTML object>"
      ]
     },
     "metadata": {},
     "output_type": "display_data"
    },
    {
     "data": {
      "text/html": [
       "<i>325.</i>  <a href=\"/wiki/%D0%9A%D1%8B%D1%80%D0%B3%D1%8B%D0%B7%D1%81%D1%82%D0%B0%D0%BD\" title=\"Кыргызстан\">Кыргызстан</a>"
      ],
      "text/plain": [
       "<IPython.core.display.HTML object>"
      ]
     },
     "metadata": {},
     "output_type": "display_data"
    },
    {
     "data": {
      "text/html": [
       "<i>326.</i>  <a href=\"/wiki/%D0%9A%D1%8D%D1%83%D1%88%D0%B0%D0%BD%D1%8C\" title=\"Кэушань\">Кэушань</a>"
      ],
      "text/plain": [
       "<IPython.core.display.HTML object>"
      ]
     },
     "metadata": {},
     "output_type": "display_data"
    },
    {
     "data": {
      "text/html": [
       "<i>327.</i>  <a href=\"/wiki/%D0%9B%D0%B5%D1%82%D0%BE%D0%BD%D0%B8%D1%8F\" title=\"Летония\">Летония</a>"
      ],
      "text/plain": [
       "<IPython.core.display.HTML object>"
      ]
     },
     "metadata": {},
     "output_type": "display_data"
    },
    {
     "data": {
      "text/html": [
       "<i>328.</i>  <a href=\"/wiki/%D0%9B%D0%B5%D1%83_%D0%BC%D0%BE%D0%BB%D0%B4%D0%BE%D0%B2%D0%B5%D0%BD%D0%B5%D1%81%D0%BA\" title=\"Леу молдовенеск\">Леу молдовенеск</a>"
      ],
      "text/plain": [
       "<IPython.core.display.HTML object>"
      ]
     },
     "metadata": {},
     "output_type": "display_data"
    },
    {
     "data": {
      "text/html": [
       "<i>329.</i>  <a href=\"/wiki/%D0%9B%D0%B5%D1%83_%D1%80%D0%BE%D0%BC%D1%8B%D0%BD%D0%B5%D1%81%D0%BA\" title=\"Леу ромынеск\">Леу ромынеск</a>"
      ],
      "text/plain": [
       "<IPython.core.display.HTML object>"
      ]
     },
     "metadata": {},
     "output_type": "display_data"
    },
    {
     "data": {
      "text/html": [
       "<i>330.</i>  <a href=\"/wiki/%D0%9B%D0%B8%D0%BC%D0%B1a_ec%D1%82o%D0%BD%D1%8D\" title=\"Лимбa ecтoнэ\">Лимбa ecтoнэ</a>"
      ],
      "text/plain": [
       "<IPython.core.display.HTML object>"
      ]
     },
     "metadata": {},
     "output_type": "display_data"
    },
    {
     "data": {
      "text/html": [
       "<i>331.</i>  <a href=\"/wiki/%D0%9B%D0%B8%D0%BC%D0%B1%D0%B0_%D0%9D%D0%BE%D0%B0%D1%81%D1%82%D1%80%D1%8D\" title=\"Лимба Ноастрэ\">Лимба Ноастрэ</a>"
      ],
      "text/plain": [
       "<IPython.core.display.HTML object>"
      ]
     },
     "metadata": {},
     "output_type": "display_data"
    },
    {
     "data": {
      "text/html": [
       "<i>332.</i>  <a class=\"mw-redirect\" href=\"/wiki/%D0%9B%D0%B8%D0%BC%D0%B1%D0%B0_%D0%A0%D0%BE%D0%BC%D1%8B%D0%BD%D1%8D\" title=\"Лимба Ромынэ\">Лимба Ромынэ</a>"
      ],
      "text/plain": [
       "<IPython.core.display.HTML object>"
      ]
     },
     "metadata": {},
     "output_type": "display_data"
    },
    {
     "data": {
      "text/html": [
       "<i>333.</i>  <a class=\"mw-redirect\" href=\"/wiki/%D0%9B%D0%B8%D0%BC%D0%B1%D0%B0_%D0%A0%D1%83%D1%81%D1%8D\" title=\"Лимба Русэ\">Лимба Русэ</a>"
      ],
      "text/plain": [
       "<IPython.core.display.HTML object>"
      ]
     },
     "metadata": {},
     "output_type": "display_data"
    },
    {
     "data": {
      "text/html": [
       "<i>334.</i>  <a class=\"mw-redirect\" href=\"/wiki/%D0%9B%D0%B8%D0%BC%D0%B1%D0%B0_%D0%B5%D1%81%D1%82%D0%BE%D0%BD%D1%8D\" title=\"Лимба естонэ\">Лимба естонэ</a>"
      ],
      "text/plain": [
       "<IPython.core.display.HTML object>"
      ]
     },
     "metadata": {},
     "output_type": "display_data"
    },
    {
     "data": {
      "text/html": [
       "<i>335.</i>  <a href=\"/wiki/%D0%9B%D0%B8%D0%BC%D0%B1%D0%B0_%D0%BC%D0%B0%D1%82%D0%B5%D1%80%D0%BD%D1%8D\" title=\"Лимба матернэ\">Лимба матернэ</a>"
      ],
      "text/plain": [
       "<IPython.core.display.HTML object>"
      ]
     },
     "metadata": {},
     "output_type": "display_data"
    },
    {
     "data": {
      "text/html": [
       "<i>336.</i>  <a class=\"mw-redirect\" href=\"/wiki/%D0%9B%D0%B8%D0%BC%D0%B1%D0%B0_%D0%BC%D0%BE%D0%BB%D0%B4%D0%BE%D0%B2%D0%B5%D0%BD%D0%B5%D0%B0%D1%81%D0%BA%D1%8D\" title=\"Лимба молдовенеаскэ\">Лимба молдовенеаскэ</a>"
      ],
      "text/plain": [
       "<IPython.core.display.HTML object>"
      ]
     },
     "metadata": {},
     "output_type": "display_data"
    },
    {
     "data": {
      "text/html": [
       "<i>337.</i>  <a href=\"/wiki/%D0%9B%D0%B8%D0%BC%D0%B1%D0%B0_%D0%BC%D0%BE%D0%BB%D0%B4%D0%BE%D0%B2%D0%B5%D0%BD%D1%8F%D1%81%D0%BA%D1%8D\" title=\"Лимба молдовеняскэ\">Лимба молдовеняскэ</a>"
      ],
      "text/plain": [
       "<IPython.core.display.HTML object>"
      ]
     },
     "metadata": {},
     "output_type": "display_data"
    },
    {
     "data": {
      "text/html": [
       "<i>338.</i>  <a href=\"/wiki/%D0%9B%D0%B8%D0%BC%D0%B1%D0%B0_%D0%BE%D0%BB%D0%B0%D0%BD%D0%B4%D0%B5%D0%B7%D1%8D\" title=\"Лимба оландезэ\">Лимба оландезэ</a>"
      ],
      "text/plain": [
       "<IPython.core.display.HTML object>"
      ]
     },
     "metadata": {},
     "output_type": "display_data"
    },
    {
     "data": {
      "text/html": [
       "<i>339.</i>  <a class=\"mw-redirect\" href=\"/wiki/%D0%9B%D0%B8%D0%BC%D0%B1%D0%B0_%D0%BE%D1%84%D0%B8%D1%87%D0%B8%D0%B0%D0%BB%D1%8D\" title=\"Лимба офичиалэ\">Лимба офичиалэ</a>"
      ],
      "text/plain": [
       "<IPython.core.display.HTML object>"
      ]
     },
     "metadata": {},
     "output_type": "display_data"
    },
    {
     "data": {
      "text/html": [
       "<i>340.</i>  <a href=\"/wiki/%D0%9B%D0%B8%D0%BC%D0%B1%D0%B0_%D1%80%D0%BE%D0%BC%D1%8B%D0%BD%D1%8D\" title=\"Лимба ромынэ\">Лимба ромынэ</a>"
      ],
      "text/plain": [
       "<IPython.core.display.HTML object>"
      ]
     },
     "metadata": {},
     "output_type": "display_data"
    },
    {
     "data": {
      "text/html": [
       "<i>341.</i>  <a href=\"/wiki/%D0%9B%D0%B8%D0%BC%D0%B1%D0%B0_%D1%80%D1%83%D1%81%D1%8D\" title=\"Лимба русэ\">Лимба русэ</a>"
      ],
      "text/plain": [
       "<IPython.core.display.HTML object>"
      ]
     },
     "metadata": {},
     "output_type": "display_data"
    },
    {
     "data": {
      "text/html": [
       "<i>342.</i>  <a href=\"/wiki/%D0%9B%D0%B8%D0%BC%D0%B1%D0%B0_%D1%83%D0%BA%D1%80%D0%B0%D0%B8%D0%BD%D1%8F%D0%BD%D1%8D\" title=\"Лимба украинянэ\">Лимба украинянэ</a>"
      ],
      "text/plain": [
       "<IPython.core.display.HTML object>"
      ]
     },
     "metadata": {},
     "output_type": "display_data"
    },
    {
     "data": {
      "text/html": [
       "<i>343.</i>  <a href=\"/wiki/%D0%9B%D0%B8%D0%BC%D0%B1%D0%B0_%D3%82%D0%B5%D1%80%D0%BC%D0%B0%D0%BD%D1%8D\" title=\"Лимба ӂерманэ\">Лимба ӂерманэ</a>"
      ],
      "text/plain": [
       "<IPython.core.display.HTML object>"
      ]
     },
     "metadata": {},
     "output_type": "display_data"
    },
    {
     "data": {
      "text/html": [
       "<i>344.</i>  <a href=\"/wiki/%D0%9B%D0%B8%D0%BC%D0%B1%D0%B8%D0%BB%D0%B5_%D1%84%D0%B8%D0%BD%D0%BE-%D1%83%D0%B3%D1%80%D0%B8%D1%87%D0%B5\" title=\"Лимбиле фино-угриче\">Лимбиле фино-угриче</a>"
      ],
      "text/plain": [
       "<IPython.core.display.HTML object>"
      ]
     },
     "metadata": {},
     "output_type": "display_data"
    },
    {
     "data": {
      "text/html": [
       "<i>345.</i>  <a href=\"/wiki/%D0%9B%D0%B8%D0%BC%D0%B1%D1%8C\" title=\"Лимбь\">Лимбь</a>"
      ],
      "text/plain": [
       "<IPython.core.display.HTML object>"
      ]
     },
     "metadata": {},
     "output_type": "display_data"
    },
    {
     "data": {
      "text/html": [
       "<i>346.</i>  <a class=\"mw-redirect\" href=\"/wiki/%D0%9B%D0%B8%D0%BC%D0%B1%D1%8C_%D1%84%D0%B8%D0%BDo-%D1%83%D0%B3p%D0%B8%D1%87e\" title=\"Лимбь финo-угpичe\">Лимбь финo-угpичe</a>"
      ],
      "text/plain": [
       "<IPython.core.display.HTML object>"
      ]
     },
     "metadata": {},
     "output_type": "display_data"
    },
    {
     "data": {
      "text/html": [
       "<i>347.</i>  <a href=\"/wiki/%D0%9B%D0%B8%D0%BC%D0%B1%D1%8D\" title=\"Лимбэ\">Лимбэ</a>"
      ],
      "text/plain": [
       "<IPython.core.display.HTML object>"
      ]
     },
     "metadata": {},
     "output_type": "display_data"
    },
    {
     "data": {
      "text/html": [
       "<i>348.</i>  <a href=\"/w/index.php?title=Special:Toate_paginile&amp;from=%D0%9B%D0%B8%D0%BC%D0%B1%D1%8D+%D0%BE%D1%84%D0%B8%D1%87%D0%B8%D0%B0%D0%BB%D1%8D\" title=\"Special:Toate paginile\">Pagina următoare (Лимбэ офичиалэ)</a>"
      ],
      "text/plain": [
       "<IPython.core.display.HTML object>"
      ]
     },
     "metadata": {},
     "output_type": "display_data"
    },
    {
     "data": {
      "text/html": [
       "<i>349.</i>  <a dir=\"ltr\" href=\"https://mo.wikipedia.org/wiki/Special:Toate_paginile\">https://mo.wikipedia.org/wiki/Special:Toate_paginile</a>"
      ],
      "text/plain": [
       "<IPython.core.display.HTML object>"
      ]
     },
     "metadata": {},
     "output_type": "display_data"
    },
    {
     "data": {
      "text/html": [
       "<i>350.</i>  <a accesskey=\"o\" href=\"/w/index.php?title=Special:Autentificare&amp;returnto=Special%3AToate+paginile&amp;returntoquery=hideredirects%3D1\" title=\"Есте ынкуражат сэ се аутентификэ, дешь ачест лукру ну есте облигаториу. [o]\">Autentificare</a>"
      ],
      "text/plain": [
       "<IPython.core.display.HTML object>"
      ]
     },
     "metadata": {},
     "output_type": "display_data"
    },
    {
     "data": {
      "text/html": [
       "<i>351.</i>  <a href=\"/w/index.php?title=Special:Toate_paginile&amp;hideredirects=1\" title=\"Ачаста есте о паӂинэ спечиалэ, ну о поць модифика директ.\">Сервичий</a>"
      ],
      "text/plain": [
       "<IPython.core.display.HTML object>"
      ]
     },
     "metadata": {},
     "output_type": "display_data"
    },
    {
     "data": {
      "text/html": [
       "<i>352.</i>  <a class=\"mw-wiki-logo\" href=\"/wiki/%D0%9F%D0%B0%D3%82%D0%B8%D0%BD%D0%B0_%D0%BF%D1%80%D0%B8%D0%BD%D1%87%D0%B8%D0%BF%D0%B0%D0%BB%D1%8D\" title=\"Pagina principală\"></a>"
      ],
      "text/plain": [
       "<IPython.core.display.HTML object>"
      ]
     },
     "metadata": {},
     "output_type": "display_data"
    },
    {
     "data": {
      "text/html": [
       "<i>353.</i>  <a accesskey=\"z\" href=\"/wiki/%D0%9F%D0%B0%D3%82%D0%B8%D0%BD%D0%B0_%D0%BF%D1%80%D0%B8%D0%BD%D1%87%D0%B8%D0%BF%D0%B0%D0%BB%D1%8D\" title=\"Визитязэ паӂина принчипалэ [z]\">Прима паӂина</a>"
      ],
      "text/plain": [
       "<IPython.core.display.HTML object>"
      ]
     },
     "metadata": {},
     "output_type": "display_data"
    },
    {
     "data": {
      "text/html": [
       "<i>354.</i>  <a href=\"/wiki/Wikipedia:Portal_Comunitate\" title=\"Деспре проект, че поате фаче, унде гэсеште солуций\">Порталул комунитэций</a>"
      ],
      "text/plain": [
       "<IPython.core.display.HTML object>"
      ]
     },
     "metadata": {},
     "output_type": "display_data"
    },
    {
     "data": {
      "text/html": [
       "<i>355.</i>  <a href=\"/wiki/Wikipedia:Cafenea\" title=\"Гэсеште информаций деспре ынтымпларе курентэ\">Евенименте актуале</a>"
      ],
      "text/plain": [
       "<IPython.core.display.HTML object>"
      ]
     },
     "metadata": {},
     "output_type": "display_data"
    },
    {
     "data": {
      "text/html": [
       "<i>356.</i>  <a accesskey=\"r\" href=\"/wiki/Special:%D0%9C%D0%BE%D0%B4%D0%B8%D1%84%D0%B8%D0%BA%D1%8D%D1%80%D1%8C%D1%80%D0%B5%D1%87%D0%B5%D0%BD%D1%82%D0%B5\" title=\"Листа ултимелор скимбэрь реализате ын ачест вики. [r]\">Скимбэрь актуале</a>"
      ],
      "text/plain": [
       "<IPython.core.display.HTML object>"
      ]
     },
     "metadata": {},
     "output_type": "display_data"
    },
    {
     "data": {
      "text/html": [
       "<i>357.</i>  <a accesskey=\"x\" href=\"/wiki/Special:Aleatoriu\" title=\"Мерӂе спре о паӂинэ алятоаре [x]\">Ун артикол ла ынтымпларе</a>"
      ],
      "text/plain": [
       "<IPython.core.display.HTML object>"
      ]
     },
     "metadata": {},
     "output_type": "display_data"
    },
    {
     "data": {
      "text/html": [
       "<i>358.</i>  <a href=\"https://www.mediawiki.org/wiki/Special:MyLanguage/Help:Contents\" title=\"Локул ын каре гэсешть ажутор\">Сприжин</a>"
      ],
      "text/plain": [
       "<IPython.core.display.HTML object>"
      ]
     },
     "metadata": {},
     "output_type": "display_data"
    },
    {
     "data": {
      "text/html": [
       "<i>359.</i>  <a href=\"https://donate.wikimedia.org/?utm_source=donate&amp;utm_medium=sidebar&amp;utm_campaign=spontaneous&amp;uselang=ro\" title=\"Сприжиниць-не\">Донаций</a>"
      ],
      "text/plain": [
       "<IPython.core.display.HTML object>"
      ]
     },
     "metadata": {},
     "output_type": "display_data"
    },
    {
     "data": {
      "text/html": [
       "<i>360.</i>  <a accesskey=\"q\" href=\"/wiki/Special:Pagini_speciale\" title=\"Листа тутурор паӂинилор де сервичиу [q]\">Паӂинь спечиале</a>"
      ],
      "text/plain": [
       "<IPython.core.display.HTML object>"
      ]
     },
     "metadata": {},
     "output_type": "display_data"
    },
    {
     "data": {
      "text/html": [
       "<i>361.</i>  <a accesskey=\"p\" href=\"/w/index.php?title=Special:Toate_paginile&amp;hideredirects=1&amp;printable=yes\" rel=\"alternate\" title=\"Версиуня де типэрит а ачестей паӂинь [p]\">Версиуне де типэрит</a>"
      ],
      "text/plain": [
       "<IPython.core.display.HTML object>"
      ]
     },
     "metadata": {},
     "output_type": "display_data"
    },
    {
     "data": {
      "text/html": [
       "<i>362.</i>  <a class=\"extiw\" href=\"https://wikimediafoundation.org/wiki/Privacy_policy\" title=\"wmf:Privacy policy\">Политика де интимитате</a>"
      ],
      "text/plain": [
       "<IPython.core.display.HTML object>"
      ]
     },
     "metadata": {},
     "output_type": "display_data"
    },
    {
     "data": {
      "text/html": [
       "<i>363.</i>  <a href=\"/wiki/Wikipedia:%D0%94%D0%B5%D1%81%D0%BF%D1%80%D0%B5\" title=\"Wikipedia:Деспре\">Деспре Wikipedia</a>"
      ],
      "text/plain": [
       "<IPython.core.display.HTML object>"
      ]
     },
     "metadata": {},
     "output_type": "display_data"
    },
    {
     "data": {
      "text/html": [
       "<i>364.</i>  <a href=\"/wiki/Wikipedia:%D0%94%D0%B5%D0%BA%D0%BB%D0%B0%D1%80%D0%B0%D1%86%D0%B8%D0%B5_%D3%82%D0%B5%D0%BD%D0%B5%D1%80%D0%B0%D0%BB%D1%8D\" title=\"Wikipedia:Декларацие ӂенералэ\">Деклараций</a>"
      ],
      "text/plain": [
       "<IPython.core.display.HTML object>"
      ]
     },
     "metadata": {},
     "output_type": "display_data"
    },
    {
     "data": {
      "text/html": [
       "<i>365.</i>  <a href=\"https://www.mediawiki.org/wiki/Special:MyLanguage/How_to_contribute\">Дезволтаторь</a>"
      ],
      "text/plain": [
       "<IPython.core.display.HTML object>"
      ]
     },
     "metadata": {},
     "output_type": "display_data"
    },
    {
     "data": {
      "text/html": [
       "<i>366.</i>  <a href=\"https://wikimediafoundation.org/wiki/Cookie_statement\">Cookie statement</a>"
      ],
      "text/plain": [
       "<IPython.core.display.HTML object>"
      ]
     },
     "metadata": {},
     "output_type": "display_data"
    },
    {
     "data": {
      "text/html": [
       "<i>367.</i>  <a class=\"noprint stopMobileRedirectToggle\" href=\"//mo.m.wikipedia.org/w/index.php?title=Special:Toate_paginile&amp;hideredirects=1&amp;mobileaction=toggle_view_mobile\">Версиуне мобилэ</a>"
      ],
      "text/plain": [
       "<IPython.core.display.HTML object>"
      ]
     },
     "metadata": {},
     "output_type": "display_data"
    },
    {
     "data": {
      "text/html": [
       "<i>368.</i>  <a href=\"https://wikimediafoundation.org/\"><img alt=\"Wikimedia Foundation\" height=\"31\" src=\"/static/images/wikimedia-button.png\" srcset=\"/static/images/wikimedia-button-1.5x.png 1.5x, /static/images/wikimedia-button-2x.png 2x\" width=\"88\"/></a>"
      ],
      "text/plain": [
       "<IPython.core.display.HTML object>"
      ]
     },
     "metadata": {},
     "output_type": "display_data"
    },
    {
     "data": {
      "text/html": [
       "<i>369.</i>  <a href=\"//www.mediawiki.org/\"><img alt=\"Powered by MediaWiki\" height=\"31\" src=\"/static/images/poweredby_mediawiki_88x31.png\" srcset=\"/static/images/poweredby_mediawiki_132x47.png 1.5x, /static/images/poweredby_mediawiki_176x62.png 2x\" width=\"88\"/></a>"
      ],
      "text/plain": [
       "<IPython.core.display.HTML object>"
      ]
     },
     "metadata": {},
     "output_type": "display_data"
    }
   ],
   "source": [
    "link = 'http://mo.wikipedia.org'\n",
    "main = requests.get(link) # подаём запрос на главную страницу Вики\n",
    "soup = BeautifulSoup(main.text, 'lxml')\n",
    "for link1 in soup.findAll('a', href=True, text='394'):\n",
    "    if link1:\n",
    "        stat = requests.get(link + link1['href']) # подаём запрос на страницу со статистикой\n",
    "        soup2 = BeautifulSoup(stat.text, 'lxml')\n",
    "        for link2 in soup2.findAll('a', href=True, text='Articole'):\n",
    "            if link2:\n",
    "                art = requests.get(link + link2['href']) # подаём запрос на страницу со списком всех статей Вики\n",
    "                soup3 = BeautifulSoup(art.text, 'lxml')\n",
    "                for i, links in enumerate(soup3.findAll('a', href = True)):\n",
    "                    if links:\n",
    "                        links = '<i>{}.</i>  {}'.format(i, links)\n",
    "                        display(HTML(str(links)))\n"
   ]
  },
  {
   "cell_type": "code",
   "execution_count": null,
   "metadata": {},
   "outputs": [],
   "source": []
  }
 ],
 "metadata": {
  "kernelspec": {
   "display_name": "Python 3",
   "language": "python",
   "name": "python3"
  },
  "language_info": {
   "codemirror_mode": {
    "name": "ipython",
    "version": 3
   },
   "file_extension": ".py",
   "mimetype": "text/x-python",
   "name": "python",
   "nbconvert_exporter": "python",
   "pygments_lexer": "ipython3",
   "version": "3.4.2"
  }
 },
 "nbformat": 4,
 "nbformat_minor": 2
}
